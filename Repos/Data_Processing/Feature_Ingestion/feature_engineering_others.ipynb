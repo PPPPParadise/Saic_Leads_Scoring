{
 "cells": [
  {
   "cell_type": "code",
   "execution_count": 15,
   "metadata": {},
   "outputs": [],
   "source": [
    "import pandas as pd\n",
    "import numpy as np\n",
    "import matplotlib.pyplot as plt\n",
    "import seaborn as sns\n",
    "from datetime import datetime\n",
    "from scipy import stats"
   ]
  },
  {
   "cell_type": "code",
   "execution_count": 16,
   "metadata": {},
   "outputs": [],
   "source": [
    "wide_info_all = pd.read_csv('/home/mam_jupyter/jupyter_dir/artefact/leads_scoring_model/Python/dev/feature_all.csv', index_col = 0)"
   ]
  },
  {
   "cell_type": "code",
   "execution_count": 19,
   "metadata": {},
   "outputs": [
    {
     "data": {
      "text/plain": [
       "(1979997, 148)"
      ]
     },
     "execution_count": 19,
     "metadata": {},
     "output_type": "execute_result"
    }
   ],
   "source": [
    "wide_info_all.shape"
   ]
  },
  {
   "cell_type": "code",
   "execution_count": 17,
   "metadata": {},
   "outputs": [],
   "source": [
    "wide_info_others = wide_info_all[wide_info_all[list(wide_info_all.columns[[i[0:2] == 'h_' for i in wide_info_all.columns]])].isna().T.all() == True]\n",
    "wide_info_others = wide_info_others[['mobile', 'd_deal_flag'] + list(pd.read_csv('remained.csv')['action_origin'])] #drop columns with no lift difference"
   ]
  },
  {
   "cell_type": "code",
   "execution_count": 18,
   "metadata": {},
   "outputs": [
    {
     "data": {
      "text/plain": [
       "(1763560, 62)"
      ]
     },
     "execution_count": 18,
     "metadata": {},
     "output_type": "execute_result"
    }
   ],
   "source": [
    "wide_info_others.shape"
   ]
  },
  {
   "cell_type": "code",
   "execution_count": 45,
   "metadata": {},
   "outputs": [
    {
     "data": {
      "text/plain": [
       "(1763560, 62)"
      ]
     },
     "execution_count": 45,
     "metadata": {},
     "output_type": "execute_result"
    }
   ],
   "source": [
    "#wide_info_others.to_csv('/home/mam_jupyter/jupyter_dir/artefact/leads_scoring_model/Python/dev/wide_info_others.csv')\n",
    "wide_info_others.shape"
   ]
  },
  {
   "cell_type": "markdown",
   "metadata": {},
   "source": [
    "### Get Extra Information"
   ]
  },
  {
   "cell_type": "code",
   "execution_count": 23,
   "metadata": {},
   "outputs": [],
   "source": [
    "lm_others = pd.read_csv('lift_matrix.csv', delimiter = ',')"
   ]
  },
  {
   "cell_type": "code",
   "execution_count": 33,
   "metadata": {},
   "outputs": [],
   "source": [
    "city_lift = lm_others[lm_others['action_origin'] == 'c_city'][['action','1']]\n",
    "city_lift['city'] = city_lift['action'].str.split('_', expand = True)[2]"
   ]
  },
  {
   "cell_type": "markdown",
   "metadata": {},
   "source": [
    "### Data Cleaning"
   ]
  },
  {
   "cell_type": "markdown",
   "metadata": {},
   "source": [
    "##### Detect and exclude outliers"
   ]
  },
  {
   "cell_type": "code",
   "execution_count": null,
   "metadata": {},
   "outputs": [],
   "source": [
    "#wide_info_others[(np.abs(stats.zscore(wide_info_others)) < 3).all(axis=1)]"
   ]
  },
  {
   "cell_type": "markdown",
   "metadata": {},
   "source": [
    "### Feature Transformation"
   ]
  },
  {
   "cell_type": "markdown",
   "metadata": {},
   "source": [
    "##### Binary & Categorical Features"
   ]
  },
  {
   "cell_type": "code",
   "execution_count": null,
   "metadata": {},
   "outputs": [],
   "source": [
    "wide_info_others.replace({'d_cust_type':{60261001:1, 60261002:2},\n",
    "                        'c_sex':{'性别为男性':1, '性别为女性':2},\n",
    "                        'c_age':{'20岁以下':1, '21-25岁':3, '26-30岁':3, '31-35岁':3, '36-40岁':3, \n",
    "                                 '41-45岁':3, '46-50岁':2, '51-55岁':2, '56-60岁':2, '60岁以上':4},\n",
    "                        'c_province':{'贵州省':1, '云南省':1, '四川省':1, '重庆市':1, '福建省':2, '海南省':2, '广西壮族自治区':2, '安徽省':2,\n",
    "                                     '江西省':2, '广东省':2, '上海市':2, '西藏自治区':2, '湖北省':2, '江苏省': 2},\n",
    "                        'c_city_level':{'一线城市':3, '新一线城市':2, '二线城市':3, '三线城市':3, '四线城市':1, '五线城市':1},\n",
    "                        'd_is_deposit_order':{0:2}})"
   ]
  },
  {
   "cell_type": "code",
   "execution_count": null,
   "metadata": {},
   "outputs": [],
   "source": [
    "# deal with province\n",
    "wide_info_others['c_province'] = [0 if i is np.nan else 3 if isinstance(i, int) == False for i in wide_info_others['c_province']]\n",
    "\n",
    "# deal with city\n",
    "city_1 = list(city_lift[city_lift['1'] <= 1]['city'])\n",
    "city_2 = list(city_lift[(city_lift['1'] > 1) & (city_lift['1'] < 1.5)]['city'])\n",
    "city_3 = list(city_lift[city_lift['1'] >= 1.5]['city'])\n",
    "wide_info_others['c_city'] = [1 if i in city_1 else 2 if i in city_2 else 3 if i in city_3 else 0 for i in wide_info_others['c_city']]"
   ]
  },
  {
   "cell_type": "code",
   "execution_count": null,
   "metadata": {},
   "outputs": [],
   "source": [
    "# low cov rate features but want to keep because they show great difference between w/o certain features\n",
    "binary_features = ['d_fir_sec_visit_diff','d_avg_fir_sec_visit_diff','d_avg_firleads_firvisit_diff','d_trail_count_d30',\n",
    "                        'd_visit_count_d15','d_firfollow_dealf_diff', 'd_firleads_firvisit_diff', 'd_leads_dtbt_ppt','c_register_time', \n",
    "                        'c_last_reach_platform_MG服务号','c_last_reach_platform_MGAPP','c_last_reach_platform_MG官网']\n",
    "\n",
    "# binary column\n",
    "wide_info_others[binary_features] = wide_info_others[binary_features].where(wide_info_others[binary_features].isnull(),1).fillna(0).astype(int)"
   ]
  },
  {
   "cell_type": "code",
   "execution_count": 71,
   "metadata": {},
   "outputs": [
    {
     "data": {
      "text/plain": [
       "397251"
      ]
     },
     "execution_count": 71,
     "metadata": {},
     "output_type": "execute_result"
    }
   ],
   "source": [
    "wide_info_others['d_is_deposit_order'].isna().sum()"
   ]
  },
  {
   "cell_type": "code",
   "execution_count": 72,
   "metadata": {},
   "outputs": [
    {
     "data": {
      "text/plain": [
       "0.0    1307354\n",
       "1.0      58955\n",
       "Name: d_is_deposit_order, dtype: int64"
      ]
     },
     "execution_count": 72,
     "metadata": {},
     "output_type": "execute_result"
    }
   ],
   "source": [
    "wide_info_others['d_is_deposit_order'].value_counts()"
   ]
  },
  {
   "cell_type": "code",
   "execution_count": null,
   "metadata": {},
   "outputs": [],
   "source": []
  },
  {
   "cell_type": "markdown",
   "metadata": {},
   "source": [
    "##### Binned Features"
   ]
  },
  {
   "cell_type": "code",
   "execution_count": null,
   "metadata": {},
   "outputs": [],
   "source": []
  },
  {
   "cell_type": "code",
   "execution_count": null,
   "metadata": {},
   "outputs": [],
   "source": []
  },
  {
   "cell_type": "markdown",
   "metadata": {},
   "source": [
    "##### Deal with na"
   ]
  },
  {
   "cell_type": "code",
   "execution_count": null,
   "metadata": {},
   "outputs": [],
   "source": [
    "# fillna with 0\n",
    "wide_info_others[['d_cust_type','c_sex','c_age','c_city_level', 'c_province','d_is_deposit_order']].fillna(0)\n",
    "\n",
    "#\n",
    "cate_col = ['d_cust_type','c_sex','c_age','c_city','c_province','c_MG6','c_vertical_media','c_city_level','c_MGZS', 'd_is_deposit_order']"
   ]
  }
 ],
 "metadata": {
  "kernelspec": {
   "display_name": "python27_smcsandbox",
   "language": "python",
   "name": "python2"
  },
  "language_info": {
   "codemirror_mode": {
    "name": "ipython",
    "version": 2
   },
   "file_extension": ".py",
   "mimetype": "text/x-python",
   "name": "python",
   "nbconvert_exporter": "python",
   "pygments_lexer": "ipython2",
   "version": "2.7.16"
  }
 },
 "nbformat": 4,
 "nbformat_minor": 2
}
