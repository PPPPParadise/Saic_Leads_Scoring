{
 "cells": [
  {
   "cell_type": "code",
   "execution_count": 1,
   "metadata": {},
   "outputs": [],
   "source": [
    "import findspark\n",
    "findspark.init(\"/opt/cloudera/parcels/CDH-6.3.1-1.cdh6.3.1.p0.1470567/lib/spark\")\n",
    "\n",
    "import os\n",
    "os.environ[\"JAVA_HOME\"] = \"/usr/java/jdk1.8.0_181-cloudera\"\n",
    "\n",
    "from pyspark import SparkContext\n",
    "from pyspark.sql import SparkSession,HiveContext,Window\n",
    "from pyspark.sql import functions as fn\n",
    "from pyspark.sql.types import IntegerType, FloatType, DoubleType, ArrayType, StringType, DecimalType,MapType\n",
    "\n",
    "spark_session = SparkSession.builder.enableHiveSupport().appName(\"test\").config(\"spark.driver.memory\",\"30g\").getOrCreate()\n",
    "hc = HiveContext(spark_session.sparkContext)"
   ]
  },
  {
   "cell_type": "code",
   "execution_count": 2,
   "metadata": {},
   "outputs": [],
   "source": [
    "import pandas as pd\n",
    "import numpy as np\n",
    "import matplotlib.pyplot as plt\n",
    "import os\n",
    "import json"
   ]
  },
  {
   "cell_type": "markdown",
   "metadata": {},
   "source": [
    "### 1. 汽车之家 Semi-Feature 处理"
   ]
  },
  {
   "cell_type": "code",
   "execution_count": 3,
   "metadata": {},
   "outputs": [],
   "source": [
    "# load data\n",
    "auto = hc.sql(\n",
    "'''\n",
    "SElECT \n",
    "    mobile, h_func_prefer, h_car_type_prefer, h_config_prefer, h_budget, h_level\n",
    "    FROM marketing_modeling.mm_big_wide_info\n",
    "WHERE \n",
    "    SUBSTR(mobile, 0, 1) = 1\n",
    "    AND LENGTH(mobile) = 11\n",
    "''').toPandas()"
   ]
  },
  {
   "cell_type": "markdown",
   "metadata": {},
   "source": [
    "##### 功能偏好, 用途偏好, 配置偏好"
   ]
  },
  {
   "cell_type": "code",
   "execution_count": 4,
   "metadata": {},
   "outputs": [],
   "source": [
    "def string_to_list(x):\n",
    "    '''\n",
    "    Convert string-type list to a list give:\n",
    "    x(string): input string-type list    \n",
    "    '''\n",
    "    if x is None:\n",
    "        return np.nan\n",
    "    if len(x) == 2:\n",
    "        return 0\n",
    "    elif len(x) > 2:\n",
    "        return [int(i) for i in x[1:-1].split(',')]\n",
    "        \n",
    "        \n",
    "def get_dummy(i, x):\n",
    "    '''\n",
    "    Check if i is in x given:\n",
    "    i(int): input element need to be checked existing status\n",
    "    x(list): input list that might contains i\n",
    "    '''\n",
    "    if isinstance(x,int) | isinstance(x,float):\n",
    "        return np.nan\n",
    "    elif i in x:\n",
    "        return 1\n",
    "    elif i not in x:\n",
    "        return 0\n",
    "    else:\n",
    "        print('error')\n",
    "\n",
    "\n",
    "def create_dummy_columns(df, col, lst):\n",
    "    '''\n",
    "    Create dummy columns given:\n",
    "    df(dataframe): input dataframe\n",
    "    col(string): col that needed to be tranferred\n",
    "    lst(list)：list that contains index of dhummy columns\n",
    "    '''\n",
    "    name = col + str(1)\n",
    "    for i in lst:\n",
    "        name = col + str(i)\n",
    "        df[name] = df[col].apply(lambda x:get_dummy(i, x))\n",
    "    return df"
   ]
  },
  {
   "cell_type": "code",
   "execution_count": 5,
   "metadata": {},
   "outputs": [],
   "source": [
    "col  = ['h_func_prefer', 'h_car_type_prefer', 'h_config_prefer']\n",
    "for i in col:\n",
    "    auto[i] = auto[i].apply(string_to_list)"
   ]
  },
  {
   "cell_type": "code",
   "execution_count": 6,
   "metadata": {},
   "outputs": [],
   "source": [
    "lst_param = [10, 17, 19]\n",
    "for i in col:\n",
    "    auto = create_dummy_columns(auto, i, list(range(1, lst_param[col.index(i)])))"
   ]
  },
  {
   "cell_type": "markdown",
   "metadata": {},
   "source": [
    "##### 购车预算"
   ]
  },
  {
   "cell_type": "code",
   "execution_count": 7,
   "metadata": {},
   "outputs": [],
   "source": [
    "def get_budget_min(x):\n",
    "    '''\n",
    "    Get the lower bound of budget given:\n",
    "    x(string): input string\n",
    "    '''\n",
    "    if x is None:\n",
    "        return np.nan\n",
    "    if isinstance(x,int) | isinstance(x, float):\n",
    "        return np.nan\n",
    "    else:\n",
    "        mmin = x.split('-')[0][:-2]\n",
    "        return mmin\n",
    "    \n",
    "def get_budget_max(x):\n",
    "    '''\n",
    "    Get the upper bound of budget given:\n",
    "    x(string): input string    \n",
    "    '''\n",
    "    if x is None:\n",
    "        return np.nan\n",
    "    if isinstance(x,int) | isinstance(x, float):\n",
    "        return np.nan\n",
    "    else:\n",
    "        mmax = x.split('-')[1][1:-1]\n",
    "        return mmax   "
   ]
  },
  {
   "cell_type": "code",
   "execution_count": 8,
   "metadata": {},
   "outputs": [],
   "source": [
    "def get_budget_min_cat(x):\n",
    "    '''\n",
    "    Group the lower bound of budget given:\n",
    "    x(string): input string      \n",
    "    '''\n",
    "    if x is None:\n",
    "        return np.nan\n",
    "    if isinstance(x,int) | isinstance(x, float):\n",
    "        return np.nan\n",
    "    else:\n",
    "        mmin = x.split('-')[0][:-2]\n",
    "        if mmin > 25:\n",
    "            return '25w+'\n",
    "        elif mmin < 10:\n",
    "            return '10w以下'\n",
    "        elif mmin < 15:\n",
    "            return '10w-15w'\n",
    "        elif mmin >= 20:\n",
    "            return '20w-25w'\n",
    "        elif mmin >= 15 and mmin < 20:\n",
    "            return '15w-20w'\n",
    "        else:\n",
    "            print('error')\n",
    "            \n",
    "def get_budget_max_cat(x):\n",
    "    '''\n",
    "    Group the upper bound of budget given:\n",
    "    x(string): input string    \n",
    "    '''\n",
    "    if x is None:\n",
    "        return np.nan\n",
    "    if isinstance(x,int) | isinstance(x,float):\n",
    "        return np.nan\n",
    "    else:\n",
    "        mmax = x.split('-')[1][1:-1]\n",
    "        if mmax > 25:\n",
    "            return '25w+'\n",
    "        elif mmax < 10:\n",
    "            return '10w以下'\n",
    "        elif mmax < 15:\n",
    "            return '10w-15w'\n",
    "        elif mmax >= 20:\n",
    "            return '20w-25w'\n",
    "        elif mmax >= 15 and mmax < 20:\n",
    "            return '15w-20w'\n",
    "        else:\n",
    "            print('error')"
   ]
  },
  {
   "cell_type": "code",
   "execution_count": 9,
   "metadata": {},
   "outputs": [],
   "source": [
    "auto['h_budget_min'] = auto['h_budget'].apply(lambda x:get_budget_min(x))\n",
    "auto['h_budget_min_cat'] = auto['h_budget'].apply(lambda x:get_budget_min_cat(x))\n",
    "auto['h_budget_max'] = auto['h_budget'].apply(lambda x:get_budget_max(x))\n",
    "auto['h_budget_max_cat'] = auto['h_budget'].apply(lambda x:get_budget_max_cat(x))"
   ]
  },
  {
   "cell_type": "markdown",
   "metadata": {},
   "source": [
    "##### 级别"
   ]
  },
  {
   "cell_type": "code",
   "execution_count": 10,
   "metadata": {},
   "outputs": [],
   "source": [
    "level_values = auto['h_level'].unique()\n",
    "\n",
    "def get_level_cat():\n",
    "    '''\n",
    "    Get the car level of a car\n",
    "    '''\n",
    "    level_dic = {}\n",
    "    level_matches = ['轿车','SUV','MPV','跑车','微面','微卡','轻客','皮卡']\n",
    "    jiaoche=[u'紧凑型车',u'小型车',u'中型车',u'中大型车',u'大型车',u'微型车']\n",
    "    SUV = [u'紧凑型SUV',u'小型SUV',u'中型SUV',u'中大型SUV',u'大型SUV']\n",
    "    mpv = [u'MPV']\n",
    "    paoche = [u'跑车']\n",
    "    weimian = [u'微面']\n",
    "    weika = [u'微卡']\n",
    "    qingke = [u'轻客']\n",
    "    pika = [u'低端皮卡',u'高端皮卡']\n",
    "\n",
    "    all_list = [jiaoche, SUV, mpv, paoche, weimian, weika, qingke, pika]\n",
    "    \n",
    "    t = 0\n",
    "    for lst in all_list:\n",
    "        for i in lst:\n",
    "            level_dic[i] = level_matches[t]\n",
    "        t += 1 \n",
    "    return level_dic\n",
    "\n",
    "\n",
    "def get_level_cat_all(x):\n",
    "    '''\n",
    "    Return the car level of a car given:\n",
    "    x(string): input name of the car\n",
    "    '''\n",
    "    if isinstance(x,int) | isinstance(x,float):\n",
    "        return np.nan\n",
    "    elif x in get_level_cat().keys():\n",
    "        return get_level_cat()[x]\n",
    "    else:\n",
    "        return np.nan"
   ]
  },
  {
   "cell_type": "code",
   "execution_count": null,
   "metadata": {},
   "outputs": [],
   "source": [
    "auto['h_level_cat'] = auto['h_level'].apply(lambda x: get_level_cat_all(x))"
   ]
  },
  {
   "cell_type": "markdown",
   "metadata": {},
   "source": [
    "### 2. CDP Semi-Feature 处理"
   ]
  },
  {
   "cell_type": "code",
   "execution_count": null,
   "metadata": {},
   "outputs": [],
   "source": [
    "import sys\n",
    "stdi,stdo,stde=sys.stdin,sys.stdout,sys.stderr\n",
    "reload(sys)\n",
    "sys.stdin,sys.stdout,sys.stderr=stdi,stdo,stde\n",
    "sys.setdefaultencoding('utf-8')"
   ]
  },
  {
   "cell_type": "code",
   "execution_count": null,
   "metadata": {},
   "outputs": [],
   "source": [
    "cdp = hc.sql('''\n",
    "SELECT \n",
    "    mobile,\n",
    "    c_city,\n",
    "    c_province,\n",
    "    c_lead_model,\n",
    "    c_trail_vel,\n",
    "    c_last_trail_vel,\n",
    "    c_deliver_vel,\n",
    "    c_last_reach_platform,\n",
    "    c_lead_sources \n",
    "FROM \n",
    "    marketing_modeling.mm_big_wide_info\n",
    "WHERE \n",
    "    SUBSTR(mobile, 0, 1) = 1\n",
    "    AND LENGTH(mobile) = 11\n",
    "''').toPandas()"
   ]
  },
  {
   "cell_type": "code",
   "execution_count": null,
   "metadata": {},
   "outputs": [],
   "source": [
    "df = cdp"
   ]
  },
  {
   "cell_type": "markdown",
   "metadata": {},
   "source": [
    "##### 城市,省份"
   ]
  },
  {
   "cell_type": "code",
   "execution_count": null,
   "metadata": {},
   "outputs": [],
   "source": [
    "#city_level\n",
    "ct_lv = pd.read_excel('/home/mam_jupyter/jupyter_dir/artefact/leads_scoring_model/city_level.xlsx')"
   ]
  },
  {
   "cell_type": "code",
   "execution_count": null,
   "metadata": {},
   "outputs": [],
   "source": [
    "def string_to_list_1(x):\n",
    "    '''\n",
    "    Ignore multiple cities & provinces\n",
    "    x(string): input string-type list\n",
    "    '''\n",
    "    if isinstance(x,unicode):\n",
    "        if ',' in x:\n",
    "            return np.nan\n",
    "        elif len(x) == 0:\n",
    "            return np.nan\n",
    "        else:\n",
    "            return x\n",
    "    else:\n",
    "        return np.nan\n",
    "\n",
    "#城市\n",
    "col = 'c_city'\n",
    "df[col] = df[col].apply(string_to_list_1)\n",
    "df['c_city'].replace('上海市市辖区','上海市', inplace = True)\n",
    "df['c_city'].replace('重庆市市辖区','重庆市', inplace = True)\n",
    "df['c_city'].replace('北京市市辖区','北京市', inplace = True)\n",
    "df['c_city'].replace('天津市市辖区','天津市', inplace = True)\n",
    "df['c_city'].replace('重庆县','重庆市', inplace = True)\n",
    "\n",
    "#城市级别\n",
    "df['c_city_level'] = df.merge(ct_lv, how = 'left', left_on = 'c_city', right_on = 'city_name')['city_level']\n",
    "\n",
    "#省份\n",
    "col = 'c_province'\n",
    "df[col] = df[col].apply(string_to_list_1)"
   ]
  },
  {
   "cell_type": "markdown",
   "metadata": {},
   "source": [
    "##### 留资车系，试驾车系"
   ]
  },
  {
   "cell_type": "code",
   "execution_count": null,
   "metadata": {},
   "outputs": [],
   "source": [
    "def string_to_list_2(x):\n",
    "    '''\n",
    "    Convert string-type list to a list give:\n",
    "    x(string): input string-type list\n",
    "    '''\n",
    "    if isinstance(x,unicode):\n",
    "        if len(x) == 0:\n",
    "            return np.nan\n",
    "        else:\n",
    "            return x.split(',')\n",
    "    else:\n",
    "        return np.nan\n",
    "  \n",
    "\n",
    "def get_model_status(lead, tral):\n",
    "    '''\n",
    "    Get the status of a model given the lead and trail records\n",
    "    lead(int):input lead status\n",
    "    tral(int):input tral status\n",
    "    '''\n",
    "    if (lead == 1) & (tral != 1):\n",
    "        return 1\n",
    "    elif (lead != 1) & (tral == 1):\n",
    "        return 2\n",
    "    elif (lead == 1) & (tral == 1):\n",
    "        return 3\n",
    "    else:\n",
    "        return 0 \n",
    "\n",
    "def get_dummy(i, x):\n",
    "    '''\n",
    "    Check if i is in x given:\n",
    "    i(int): input element need to be checked existing status\n",
    "    x(list): input list that might contains i\n",
    "    '''\n",
    "    if isinstance(x,int) | isinstance(x,float):\n",
    "        return np.nan\n",
    "    elif i in x:\n",
    "        return 1\n",
    "    elif i not in x:\n",
    "        return 0\n",
    "    else:\n",
    "        print('error') \n",
    "\n",
    "def create_dummy_columns_2(df,col,lst):\n",
    "    '''\n",
    "    Create dummy columns and list of created columns given:\n",
    "    df(dataframe): input dataframe\n",
    "    col(string): col that needed to be tranferred\n",
    "    lst(list)：list that contains index of dhummy columns\n",
    "    '''\n",
    "    col_names = []\n",
    "    for i in lst:\n",
    "        name = col + \"_\" + str(i)\n",
    "        col_names.append(name)\n",
    "        df[name]=df[col].apply(lambda x: get_dummy(i,x))\n",
    "    return df, col_names    "
   ]
  },
  {
   "cell_type": "code",
   "execution_count": null,
   "metadata": {},
   "outputs": [],
   "source": [
    "models = [ \"MG350（海外销售）\",\n",
    "            \"MGeHS\",\n",
    "            \"MGGT\",\n",
    "            \"MG锐腾\",\n",
    "            \"MG550（海外销售）\",\n",
    "            \"MGeMGHS\",\n",
    "            \"MGHS\",\n",
    "            \"MG360（海外销售）\",\n",
    "            \"MGRX5（海外销售）\",\n",
    "            \"MGeMG6\",\n",
    "            \"MG7\",\n",
    "            \"MG750（海外销售）\",\n",
    "            \"MG5\",\n",
    "            \"MGZS纯电动\",\n",
    "            \"MGZS\",\n",
    "            \"MG3\",\n",
    "            \"MG新MG5（海外销售）\",\n",
    "            \"MGTF\",\n",
    "            \"MG6\"]\n",
    "lst = models"
   ]
  },
  {
   "cell_type": "code",
   "execution_count": null,
   "metadata": {},
   "outputs": [],
   "source": [
    "col = 'c_lead_model'\n",
    "df[col] = df[col].apply(lambda x:string_to_list_2(x))\n",
    "df,lead_cols = create_dummy_columns_2(df, col, lst)\n",
    "\n",
    "col = 'c_trail_vel'\n",
    "df[col] = df[col].apply(lambda x:string_to_list_2(x))\n",
    "df,tral_cols = create_dummy_columns_2(df, col, lst)"
   ]
  },
  {
   "cell_type": "code",
   "execution_count": null,
   "metadata": {},
   "outputs": [],
   "source": [
    "for i in range(len(models)):\n",
    "    model = models[i]\n",
    "    lead = lead_cols[i]\n",
    "    tral = tral_cols[i]\n",
    "    df['c_'+ model] = df.apply(lambda x:get_model_status(x[lead],x[tral]),axis = 1)"
   ]
  },
  {
   "cell_type": "code",
   "execution_count": null,
   "metadata": {},
   "outputs": [],
   "source": [
    "df[[\"mobile\",\"c_city\",\"c_province\",\"c_city_level\",\"c_MG350（海外销售）\",\"c_MGeHS\",\"c_MGGT\",\"c_MG锐腾\",\"c_MG550（海外销售）\",\"c_MGeMGHS\",\n",
    "\"c_MGHS\",\"c_MG360（海外销售）\",\"c_MGRX5（海外销售）\",\"c_MGeMG6\",\"c_MG7\",\"c_MG750（海外销售）\",\"c_MG5\",\"c_MGZS纯电动\",\"c_MGZS\",\"c_MG3\",\n",
    "\"c_MG新MG5（海外销售）\",\"c_MGTF\",\"c_MG6\"]].to_csv('cdp_middle.csv')"
   ]
  },
  {
   "cell_type": "markdown",
   "metadata": {},
   "source": [
    "##### 最近触达平台，历史线索渠道来源，线索来源数量"
   ]
  },
  {
   "cell_type": "code",
   "execution_count": null,
   "metadata": {},
   "outputs": [],
   "source": [
    "col = 'c_last_reach_platform'\n",
    "\n",
    "df[col] = df[col].apply(lambda x:string_to_list_2(x))\n",
    "\n",
    "col_list = df[col][(df[col].isnull()==False)&(df[col] != None)&(df[col]!= '')].to_list()\n",
    "lst = list(set([i for k in col_list for i in k]))\n",
    "df = create_dummy_columns_2(df,col,lst)[0]"
   ]
  },
  {
   "cell_type": "code",
   "execution_count": null,
   "metadata": {},
   "outputs": [],
   "source": [
    "col = 'c_lead_sources'\n",
    "\n",
    "df[col] = df[col].apply(lambda x:string_to_list_2(x))\n",
    "\n",
    "col_list = df[col][(df[col].isnull()==False)&(df[col] != None)&(df[col]!= '')].to_list()\n",
    "lst = list(set([i for k in col_list for i in k]))\n",
    "df,source_cols = create_dummy_columns_2(df,col,lst)"
   ]
  },
  {
   "cell_type": "code",
   "execution_count": null,
   "metadata": {},
   "outputs": [],
   "source": [
    "vertical_media = ['c_lead_sources_懂车帝','c_lead_sources_汽车之家','c_lead_sources_途虎','c_lead_sources_易车',\n",
    "                  'c_lead_sources_17汽车','c_lead_sources_太平洋','c_lead_sources_车享CRM（品牌馆，又叫电商）','c_lead_sources_爱卡']\n",
    "offcial_online = ['c_lead_sources_名爵APP','c_lead_sources_官网']\n",
    "\n",
    "\n",
    "df['c_vertical_media'] = df[vertical_media].sum(axis = 1)\n",
    "df['c_offcial_online'] = df[offcial_online].sum(axis = 1)\n",
    "\n",
    "df.loc[df[df['c_lead_sources'].isnull() == True].index,'vertical_media'] = np.nan\n",
    "df.loc[df[df['c_lead_sources'].isnull() == True].index,'offcial_online'] = np.nan"
   ]
  },
  {
   "cell_type": "code",
   "execution_count": null,
   "metadata": {},
   "outputs": [],
   "source": [
    "df['c_leads_source_nums'] = df[source_cols].sum(axis =1)"
   ]
  },
  {
   "cell_type": "code",
   "execution_count": null,
   "metadata": {},
   "outputs": [],
   "source": [
    "cdp = df[[\"mobile\",\"c_city\",\"c_province\",\"c_city_level\",\"c_MG350（海外销售）\",\"c_MGeHS\",\"c_MGGT\",\"c_MG锐腾\",\"c_MG550（海外销售）\",\"c_MGeMGHS\",\n",
    "\"c_MGHS\",\"c_MG360（海外销售）\",\"c_MGRX5（海外销售）\",\"c_MGeMG6\",\"c_MG7\",\"c_MG750（海外销售）\",\"c_MG5\",\"c_MGZS纯电动\",\"c_MGZS\",\"c_MG3\",\n",
    "\"c_MG新MG5（海外销售）\",\"c_MGTF\",\"c_MG6\",\n",
    "\"c_last_reach_platform_MG服务号\",\"c_last_reach_platform_MGAPP\",\"c_last_reach_platform_MG官网\",\"c_lead_sources_汽车之家\",\n",
    "\"c_vertical_media\",\"c_offcial_online\",\n",
    "\"c_leads_source_nums\"]]"
   ]
  },
  {
   "cell_type": "code",
   "execution_count": null,
   "metadata": {},
   "outputs": [],
   "source": [
    "cdp.to_csv('cdp.csv')"
   ]
  },
  {
   "cell_type": "markdown",
   "metadata": {},
   "source": [
    "#### 3. Merge 基于汽车之家和CDP Semi-feature 生成的 Feature List"
   ]
  },
  {
   "cell_type": "code",
   "execution_count": null,
   "metadata": {},
   "outputs": [],
   "source": [
    "cdp = pd.read_csv('cdp.csv',index_col = 0)"
   ]
  },
  {
   "cell_type": "code",
   "execution_count": null,
   "metadata": {},
   "outputs": [],
   "source": [
    "auto = auto.drop(['h_func_prefer', 'h_car_type_prefer', 'h_config_prefer', 'h_budget', 'h_level'])"
   ]
  },
  {
   "cell_type": "code",
   "execution_count": null,
   "metadata": {},
   "outputs": [],
   "source": [
    "semi_feature_processed = auto[['']].merge(cdp, how = 'left', on = 'mobile')"
   ]
  },
  {
   "cell_type": "code",
   "execution_count": null,
   "metadata": {},
   "outputs": [],
   "source": [
    "semi_feature_processed.to_csv('leads_scoring_model/semi_feature_processing.csv',index = False)"
   ]
  }
 ],
 "metadata": {
  "kernelspec": {
   "display_name": "python27_smcsandbox",
   "language": "python",
   "name": "python2"
  },
  "language_info": {
   "codemirror_mode": {
    "name": "ipython",
    "version": 2
   },
   "file_extension": ".py",
   "mimetype": "text/x-python",
   "name": "python",
   "nbconvert_exporter": "python",
   "pygments_lexer": "ipython2",
   "version": "2.7.16"
  }
 },
 "nbformat": 4,
 "nbformat_minor": 2
}
