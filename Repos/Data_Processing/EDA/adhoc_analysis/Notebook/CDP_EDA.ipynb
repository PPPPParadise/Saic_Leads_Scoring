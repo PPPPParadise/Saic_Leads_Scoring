{
 "cells": [
  {
   "cell_type": "code",
   "execution_count": null,
   "metadata": {},
   "outputs": [],
   "source": [
    "import findspark\n",
    "findspark.init(\"/opt/cloudera/parcels/CDH-6.3.1-1.cdh6.3.1.p0.1470567/lib/spark\")\n",
    "\n",
    "import os\n",
    "os.environ[\"JAVA_HOME\"] = \"/usr/java/jdk1.8.0_181-cloudera\"\n",
    "\n",
    "from pyspark import SparkContext\n",
    "from pyspark.sql import SparkSession,HiveContext,Window\n",
    "from pyspark.sql import functions as fn\n",
    "from pyspark.sql.types import IntegerType, FloatType, DoubleType, ArrayType, StringType, DecimalType,MapType\n",
    "\n",
    "spark_session = SparkSession.builder.enableHiveSupport().appName(\"test\").config(\"spark.driver.memory\",\"30g\").getOrCreate()\n",
    "hc = HiveContext(spark_session.sparkContext)"
   ]
  },
  {
   "cell_type": "code",
   "execution_count": null,
   "metadata": {},
   "outputs": [],
   "source": [
    "import pandas as pd\n",
    "import numpy as np\n",
    "import seaborn as sns\n",
    "import matplotlib.pyplot as plt\n",
    "\n",
    "from datetime import datetime"
   ]
  },
  {
   "cell_type": "markdown",
   "metadata": {},
   "source": [
    "### Read Data"
   ]
  },
  {
   "cell_type": "code",
   "execution_count": null,
   "metadata": {},
   "outputs": [],
   "source": [
    "# Load all tags of those who are tagged custumers status of MG\n",
    "# Code to create table tmp_mg_tags_0513 please refer to SQL archived documents.\n",
    "mg_tags = hc.sql(\"select * from rdtwarehouse.tmp_mg_tags_0513\").toPandas()"
   ]
  },
  {
   "cell_type": "code",
   "execution_count": null,
   "metadata": {},
   "outputs": [],
   "source": [
    "# Load dictionary of tags\n",
    "ma_tags = hc.sql(\"select * from rdtwarehouse.cdp_ma_tags_0513\").toPandas()\n",
    "\n",
    "# To do some transformation of MG tags\n",
    "split = ma_tags['tag_name'].str.split('/')\n",
    "ma_tags['tag'] = pd.DataFrame([i[-1] if len(i) <= 3 else i[-3] if i[-3] == '个人地址' else i[-2] for i in split])\n",
    "ma_tags['tag_value'] = pd.DataFrame([i[-1] for i in split])\n",
    "ma_tags['tag_brand'] = pd.DataFrame([i[3] if len(i) >= 4 else '' for i in split])"
   ]
  },
  {
   "cell_type": "code",
   "execution_count": null,
   "metadata": {},
   "outputs": [],
   "source": [
    "# Merge tag_id and tag_name\n",
    "tags_c = mg_tags.merge(ma_tags, how = 'left', on = 'tag_id')\n",
    "mg_tags_c = tags_c[(tags_c['tag_brand'] != 'ROEWE') & (tags_c['tag_brand'] != 'ROEWE专有')]"
   ]
  },
  {
   "cell_type": "code",
   "execution_count": null,
   "metadata": {},
   "outputs": [],
   "source": [
    "mg_tags_c['tag'].unique()"
   ]
  },
  {
   "cell_type": "code",
   "execution_count": null,
   "metadata": {},
   "outputs": [],
   "source": [
    "# load background information\n",
    "city_level = pd.read_excel('city_level.xlsx', delimiter = ',')"
   ]
  },
  {
   "cell_type": "markdown",
   "metadata": {},
   "source": [
    "### Basic Properities of all MG Customers"
   ]
  },
  {
   "cell_type": "code",
   "execution_count": null,
   "metadata": {},
   "outputs": [],
   "source": [
    "# Total MG Customers\n",
    "print('Total MG Customer:', len(mg_tags_c['id'].unique()))\n",
    "ttl_mbr = len(mg_tags_c['id'].unique())"
   ]
  },
  {
   "cell_type": "code",
   "execution_count": null,
   "metadata": {},
   "outputs": [],
   "source": [
    "# null% of customer age\n",
    "print('客户寿命:',1-(len(mg_tags_c[(mg_tags_c['tag'] == '客户综合信息') & (mg_tags_c['tag_value'] == '客户寿命')])/ttl_mbr))"
   ]
  },
  {
   "cell_type": "code",
   "execution_count": null,
   "metadata": {},
   "outputs": [],
   "source": [
    "# Distribution of MG customers' life age\n",
    "pd.cut(mg_tags_c[(mg_tags_c['tag'] == '客户综合信息') & (mg_tags_c['tag_value'] == '客户寿命')]['score'].values,\\\n",
    "bins=[0, 30, 60, 90, 120, 150, 180, 210, 240, 270, 300, 330, 360, 1000]).value_counts()"
   ]
  },
  {
   "cell_type": "code",
   "execution_count": null,
   "metadata": {},
   "outputs": [],
   "source": [
    "# Distribution of dealed customers\n",
    "pd.cut(mg_tags_c[mg_tags_c['tag_value'] == '成交日期']['score'].values,\\\n",
    "bins=[20041231, 20051231, 20061231, 20071231, 20081231, 20091231, 20101231, 20111231, 20121231, 20131231, 20141231, 20151231,\\\n",
    "     20161231, 20171231, 20181231, 20191231, 20201231]).value_counts()"
   ]
  },
  {
   "cell_type": "markdown",
   "metadata": {},
   "source": [
    "### Analysis of null rate of current CDP tags on MG Customers in last 6m"
   ]
  },
  {
   "cell_type": "code",
   "execution_count": null,
   "metadata": {},
   "outputs": [],
   "source": [
    "# MG Customers last 6m\n",
    "mg_cust_6m = mg_tags_c[mg_tags_c['id'].isin(mg_tags_c[(mg_tags_c['tag_value'] == '客户寿命') & (mg_tags_c['score'] <= 180)]['id'])]\n",
    "mg_cust_6m['split'] = mg_cust_6m['tag_name'].str.split('/')"
   ]
  },
  {
   "cell_type": "code",
   "execution_count": null,
   "metadata": {},
   "outputs": [],
   "source": [
    "print('MG Customer Last 6m:',len(mg_cust_6m['id'].unique()))"
   ]
  },
  {
   "cell_type": "code",
   "execution_count": null,
   "metadata": {},
   "outputs": [],
   "source": [
    "# Customer stage\n",
    "customer_stage = pd.DataFrame(mg_cust_6m[mg_cust_6m['tag'] == '客户状态']['tag_value'].value_counts())\n",
    "customer_stage['vol%'] = customer_stage['tag_value']/len(mg_cust_6m['id'].unique())\n",
    "print(customer_stage)"
   ]
  },
  {
   "cell_type": "code",
   "execution_count": null,
   "metadata": {},
   "outputs": [],
   "source": [
    "# Calculate vol of selected tags and group by customer status\n",
    "def null_rate(data, tag_name):\n",
    "    targeted_tag_id = data[data['tag_name'] == tag_name]\n",
    "    if len(targeted_tag_id) == 0:\n",
    "        null_list = [\"Empty Tags\"]\n",
    "    else:\n",
    "        targeted = data[data['id'].isin(targeted_tag_id['id'])]\n",
    "        null_list = pd.DataFrame(targeted[targeted['tag'] == '客户状态']['tag_value'].value_counts())\n",
    "    return tag_name, null_list\n",
    "\n",
    "def null_rate_contain(data,tag_name):\n",
    "    mg_tags_dna = pd.DataFrame(data[['id','tag_name']].dropna())\n",
    "    targeted_tag_id = data[data['tag_name'].str.contains(tag_name)]\n",
    "    if len(targeted_tag_id) == 0:\n",
    "        null_list = [\"Empty Tags\"]\n",
    "    else:\n",
    "        targeted = data[data['id'].isin(targeted_tag_id['id'])]\n",
    "        null_list = pd.DataFrame(targeted[targeted['tag'] == '客户状态']['tag_value'].value_counts())\n",
    "    return tag_name, null_list"
   ]
  },
  {
   "cell_type": "code",
   "execution_count": null,
   "metadata": {},
   "outputs": [],
   "source": [
    "tag_name_leaf = ['全局标签/客户标签/行为属性标签/MG/APP/是否注册APP',\\\n",
    "            '全局标签/客户标签/行为属性标签/MG/官网/浏览官网/最后一次浏览官网日期',\\\n",
    "            '全局标签/客户标签/行为属性标签/MG/官网/过去14天浏览页面/过去14天浏览官网页面次数',\\\n",
    "            '全局标签/客户标签/行为属性标签/MG/APP/访问时长/过去14天访问APP平均时长',\\\n",
    "            '全局标签/客户标签/行为属性标签/MG/APP/积分/过去14天取得积分总数',\\\n",
    "            '全局标签/客户标签/行为属性标签/MG/APP/积分/总使用积分次数',\\\n",
    "            '全局标签/客户标签/行为属性标签/MG/APP/积分时间/最近一次使用积分时间',\\\n",
    "            '主机厂专有标签/客户标签/业务属性标签/MG专有/销售/是否试乘试驾/是',\\\n",
    "            '主机厂专有标签/客户标签/业务属性标签/MG专有/销售/MG销售相关总次数/MG总到店次数',\\\n",
    "            '主机厂专有标签/客户标签/业务属性标签/MG专有/销售/次数/过去14天到店次数',\\\n",
    "            '主机厂专有标签/客户标签/业务属性标签/MG专有/销售/APP/过去14天预约试乘试驾次数',\\\n",
    "            '主机厂专有标签/客户标签/业务属性标签/MG专有/销售/是否打开短链/是',\\\n",
    "            '主机厂专有标签/客户标签/业务属性标签/MG专有/销售/MG销售相关总次数/MG历史跟进次数',\\\n",
    "            '主机厂专有标签/客户标签/业务属性标签/MG专有/销售/MG销售日期/MG上次外呼日期',\\\n",
    "            '主机厂专有标签/客户标签/业务属性标签/MG专有/销售/销售相关日期/战败日期',\\\n",
    "            '主机厂专有标签/客户标签/业务属性标签/MG专有/销售/最近一次进店时间/MG最近一次进店日期',\\\n",
    "            '主机厂专有标签/客户标签/业务属性标签/MG专有/销售/客户综合信息/跨店建卡数量',\\\n",
    "            '主机厂专有标签/客户标签/业务属性标签/MG专有/销售/销售相关日期/成交日期',\\\n",
    "            '主机厂专有标签/客户标签/业务属性标签/MG专有/销售/MG销售日期/MG最近跟进日期',\\\n",
    "            '主机厂专有标签/客户标签/业务属性标签/MG专有/销售/销售相关日期/最近一次试驾日期',\\\n",
    "            '主机厂专有标签/客户标签/行为属性标签/MG/活动/活动相关日期/最近参加活动日期',\\\n",
    "            '主机厂专有标签/客户标签/业务属性标签/MG专有/销售/销售相关日期/最近短信发送日期',\\\n",
    "            '主机厂专有标签/客户标签/业务属性标签/MG专有/销售/客户综合信息/线索渠道附加量',\\\n",
    "            '主机厂专有标签/客户标签/业务属性标签/MG专有/销售/是否为首次购车/是',\\\n",
    "            '主机厂专有标签/客户标签/业务属性标签/MG专有/销售/销售相关日期/MG最近一次建卡日期',\\\n",
    "            '主机厂专有标签/客户标签/业务属性标签/MG专有/销售/是否变更经销商/是']\n",
    "\n",
    "tag_name_sub_leaf = ['个人地址', '上次外呼结果', '线索来源', '性别', '年龄段', '购买车系', '试驾车系', '最近一次试驾车系',\\\n",
    "                     '留资车系', '战败核实原因', '战败核实状态', '战败原因（经销商）', 'MG战败核实结果', '最近短信发送结果', '成交经销商', '竞品品牌', '计划购车时间', '购车预算', \\\n",
    "                     '过去14天参加活动类型']"
   ]
  },
  {
   "cell_type": "code",
   "execution_count": null,
   "metadata": {},
   "outputs": [],
   "source": [
    "# return result\n",
    "[null_rate(mg_cust_6m, i) for i in tag_name_leaf]\n",
    "[null_rate_contain(mg_cust_6m, i) for i in tag_name_sub_leaf]"
   ]
  },
  {
   "cell_type": "markdown",
   "metadata": {},
   "source": [
    "#### Analysis of current CDP tags' distribution and deal conversion rate"
   ]
  },
  {
   "cell_type": "code",
   "execution_count": null,
   "metadata": {},
   "outputs": [],
   "source": [
    "# MG Customers in 2019\n",
    "cust_2019 = mg_tags_c[mg_tags_c['id'].isin(mg_tags_c[(mg_tags_c['tag_value'] == '客户寿命') & (mg_tags_c['score'] <= 498)\\\n",
    "                                         & (mg_tags_c['score'] >= 134)]['id'])]\n",
    "cust_2019['split'] = cust_2019['tag_name'].str.split('/')"
   ]
  },
  {
   "cell_type": "code",
   "execution_count": null,
   "metadata": {},
   "outputs": [],
   "source": [
    "pd.DataFrame(cust_2019[cust_2019['tag'] == '客户状态']['tag_value'].value_counts())"
   ]
  },
  {
   "cell_type": "code",
   "execution_count": null,
   "metadata": {},
   "outputs": [],
   "source": [
    "status = cust_2019[cust_2019['tag'] == '客户状态'][['id', 'tag_value']]\n",
    "status.rename(columns = {'tag_value': 'cust_status'}, inplace=True)\n",
    "\n",
    "def sub_leaf_distribution(tag_name):\n",
    "    targeted = cust_2019[cust_2019['tag'] == tag_name]\n",
    "    targeted['value'] = [i[-2] for i in targeted['split']] \n",
    "    targeted = targeted[targeted['value'] != tag_name][['id','value']]\n",
    "    return status.merge(targeted, how = 'left', on = 'id').groupby(['cust_status','value']).count()\n",
    "\n",
    "def sub_leaf_distribution_2(tag_name):\n",
    "    targeted = cust_2019[cust_2019['tag'] == tag_name]\n",
    "    targeted['value'] = [i[-2] for i in targeted['split']] \n",
    "    return status.merge(targeted, how = 'left', on = 'id').groupby(['cust_status','value']).count()\n",
    "\n",
    "def sub_leaf_distribution_3(tag_name, data, col):\n",
    "    targeted = cust_2019[cust_2019['tag'] == tag_name][['id','tag_value']]\n",
    "    return data.merge(targeted, how = 'left', on = 'id').groupby([col,'tag_value']).count()\n",
    "\n",
    "def sub_leaf_distribution_4(tag_name, data, col):\n",
    "    targeted = cust_2019[cust_2019['tag_name'] == tag_name][['id','score']]\n",
    "    return data.merge(targeted, how = 'left', on = 'id').groupby([col,'score']).count()"
   ]
  },
  {
   "cell_type": "code",
   "execution_count": null,
   "metadata": {},
   "outputs": [],
   "source": [
    "sub_leaf_distribution_4('主机厂专有标签/客户标签/业务属性标签/MG专有/销售/MG销售相关总次数/MG总到店次数', status, 'cust_status').to_csv('EDA_result/visit_vol.csv')"
   ]
  },
  {
   "cell_type": "code",
   "execution_count": null,
   "metadata": {
    "scrolled": true
   },
   "outputs": [],
   "source": [
    "car_leads = cust_2019[cust_2019['tag'] == '留资车系'][['id', 'tag_value']]\n",
    "car_leads.rename(columns = {'tag_value': 'car_leads'}, inplace=True)\n",
    "sub_leaf_distribution_3( '年龄段', car_leads, 'car_leads').to_csv('EDA_result/car_leads_age.csv')"
   ]
  },
  {
   "cell_type": "code",
   "execution_count": null,
   "metadata": {},
   "outputs": [],
   "source": [
    "# MG customers distribution by city level\n",
    "mg_city_level = cust_2019[cust_2019['tag'] == '个人地址']\n",
    "mg_city_level['tag_value'].replace('上海市市辖区','上海市', inplace = True)\n",
    "mg_city_level['tag_value'].replace('重庆市市辖区','重庆市', inplace = True)\n",
    "mg_city_level['tag_value'].replace('北京市市辖区','北京市', inplace = True)\n",
    "mg_city_level['tag_value'].replace('天津市市辖区','天津市', inplace = True)\n",
    "mg_city_level['tag_value'].replace('重庆县','重庆市', inplace = True)\n",
    "mg_city_level['tag_length'] = [len(i) for i in mg_city_level['split']]\n",
    "mg_city_level = mg_city_level[mg_city_level['tag_length'] == 7].merge(city_level, how = 'left', \\\n",
    "                                                                     left_on = 'tag_value', right_on = 'city_name')\n",
    "\n",
    "# city level\n",
    "status.merge(mg_city_level[['id','city_level']], how = 'left', on = 'id').groupby(['cust_status','city_level']).count()\n",
    "\n",
    "# city name\n",
    "status.merge(mg_city_level[['id','city_name']], how = 'left', on = 'id').groupby(['cust_status','city_name']).count()"
   ]
  },
  {
   "cell_type": "code",
   "execution_count": null,
   "metadata": {
    "scrolled": true
   },
   "outputs": [],
   "source": [
    "# Distribution of last visit day\n",
    "visit_date = cust_2019[cust_2019['tag_name'] == '主机厂专有标签/客户标签/业务属性标签/MG专有/销售/最近一次进店时间/MG最近一次进店日期'][['id', 'score']]\n",
    "visit_date['visit_date'] = [datetime(year=int(str(i)[0:4]), month=int(str(i)[4:6]), day=int(str(i)[6:8])).isoformat() \\\n",
    "                            for i in visit_date['score']]\n",
    "visit_date['visit_weekday'] = [datetime.strptime(i, \"%Y-%m-%dT%H:%M:%S\").isoweekday() for i in visit_date['visit_date']]\n",
    "visit_date[['id','visit_weekday']].groupby(['visit_weekday']).count()"
   ]
  },
  {
   "cell_type": "code",
   "execution_count": null,
   "metadata": {
    "scrolled": true
   },
   "outputs": [],
   "source": [
    "status.merge(visit_date[['id','visit_weekday']], how = 'left', on = 'id').groupby(['cust_status','visit_weekday']).count()"
   ]
  },
  {
   "cell_type": "code",
   "execution_count": null,
   "metadata": {},
   "outputs": [],
   "source": [
    "# Funnel\n",
    "leads_id = pd.DataFrame(cust_2019['id'].unique())\n",
    "leads_id.rename(columns = {0: 'id'}, inplace=True)\n",
    "trail_id = pd.DataFrame(cust_2019[cust_2019['tag_name'] == '主机厂专有标签/客户标签/业务属性标签/MG专有/销售/是否试乘试驾/是']['id'])\n",
    "visit_id = pd.DataFrame(cust_2019[cust_2019['tag_name'] == '主机厂专有标签/客户标签/业务属性标签/MG专有/销售/MG销售相关总次数/MG总到店次数']['id'])\n",
    "deal_id =  pd.DataFrame(cust_2019[cust_2019['tag_name'] == '主机厂专有标签/客户标签/业务属性标签/MG专有/销售/销售相关日期/成交日期']['id'])"
   ]
  },
  {
   "cell_type": "code",
   "execution_count": null,
   "metadata": {},
   "outputs": [],
   "source": [
    "print('visit to trail:',len(visit_id.merge(trail_id, how = 'inner', on = 'id')['id'].unique()))\n",
    "print('trail to deal:',len(trail_id.merge(deal_id, how = 'inner', on = 'id')['id'].unique()))\n",
    "print('leads to trail:', len(leads_id[~leads_id['id'].isin(visit_id['id'])].merge(trail_id, how = 'inner', on = 'id')['id'].unique()))\n",
    "print('leads to deal:', len(leads_id[~leads_id['id'].isin(pd.concat([visit_id['id'], trail_id['id']]))].merge(deal_id, how = 'inner', on = 'id')['id'].unique()))\n",
    "print('visit to deal:', len(visit_id[~visit_id['id'].isin(trail_id['id'])].merge(deal_id, how = 'inner', on = 'id')['id'].unique()))"
   ]
  },
  {
   "cell_type": "code",
   "execution_count": null,
   "metadata": {},
   "outputs": [],
   "source": [
    "[ i.shape for i in [leads_id, visit_id, trail_id, deal_id]]"
   ]
  }
 ],
 "metadata": {
  "kernelspec": {
   "display_name": "python37_smcsandbox",
   "language": "python",
   "name": "python3"
  },
  "language_info": {
   "codemirror_mode": {
    "name": "ipython",
    "version": 3
   },
   "file_extension": ".py",
   "mimetype": "text/x-python",
   "name": "python",
   "nbconvert_exporter": "python",
   "pygments_lexer": "ipython3",
   "version": "3.7.5"
  }
 },
 "nbformat": 4,
 "nbformat_minor": 2
}
