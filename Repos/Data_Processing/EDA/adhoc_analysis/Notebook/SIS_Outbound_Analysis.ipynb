{
 "cells": [
  {
   "cell_type": "code",
   "execution_count": 527,
   "metadata": {},
   "outputs": [],
   "source": [
    "import findspark\n",
    "findspark.init(\"/opt/cloudera/parcels/CDH-6.3.1-1.cdh6.3.1.p0.1470567/lib/spark\")\n",
    "\n",
    "import os\n",
    "os.environ[\"JAVA_HOME\"] = \"/usr/java/jdk1.8.0_181-cloudera\"\n",
    "\n",
    "from pyspark import SparkContext\n",
    "from pyspark.sql import SparkSession,HiveContext,Window\n",
    "from pyspark.sql import functions as fn\n",
    "from pyspark.sql.types import IntegerType, FloatType, DoubleType, ArrayType, StringType, DecimalType,MapType\n",
    "\n",
    "spark_session = SparkSession.builder.enableHiveSupport().appName(\"test\").config(\"spark.driver.memory\",\"30g\").getOrCreate()\n",
    "hc = HiveContext(spark_session.sparkContext)"
   ]
  },
  {
   "cell_type": "code",
   "execution_count": 2,
   "metadata": {},
   "outputs": [],
   "source": [
    "import pandas as pd\n",
    "import numpy as np\n",
    "import seaborn as sns\n",
    "import matplotlib.pyplot as plt\n",
    "\n",
    "from datetime import datetime"
   ]
  },
  {
   "cell_type": "markdown",
   "metadata": {},
   "source": [
    "#### Prepare Data and have an overview"
   ]
  },
  {
   "cell_type": "raw",
   "metadata": {},
   "source": [
    "# Query to generate a middle table in Hive\n",
    "'''\n",
    "DROP TABLE IF EXISTS tmp_outbound_2019;\n",
    "CREATE TABLE tmp_outbound_2019 AS\n",
    "SELECT \n",
    "    a.*,\n",
    "    RANK() OVER(PARTITION BY mobile, task_type ORDER BY processs_time ASC) AS call_rank\n",
    "FROM\n",
    "(\n",
    "    SELECT DISTINCT \n",
    "        mobile_no AS mobile, \n",
    "        CASE WHEN brand IN ('MG', '名爵') THEN 'MG' ELSE 'RW' END AS brand,\n",
    "        channel_one, channel_two, a.create_time AS cust_time,\n",
    "        b.created_time AS task_item_time, d.created_time AS processs_time,\n",
    "        e.task_type, d.ob_count, d.ob_result_code\n",
    "    FROM \n",
    "        ods_smcsc_tsk_customer a\n",
    "    LEFT JOIN \n",
    "        ods_smcsc_tsk_task_item b\n",
    "    ON a.id = b.cust_id\n",
    "    LEFT JOIN \n",
    "        ods_smcsc_tsk_task_item_ext c\n",
    "    ON b.id = c.task_item_id\n",
    "    LEFT JOIN \n",
    "        ods_smcsc_tsk_task_item_process d\n",
    "    ON b.id = d.task_item_id\n",
    "    LEFT JOIN \n",
    "        ods_smcsc_tsk_task e\n",
    "    ON b.task_id = e.id    \n",
    "    WHERE\n",
    "        SUBSTR(mobile_no, 0, 1) = 1\n",
    "        AND LENGTH(mobile_no) = 11\n",
    "        AND mobile_no not like '%+%'\n",
    ") a;\n",
    "'''"
   ]
  },
  {
   "cell_type": "code",
   "execution_count": 426,
   "metadata": {},
   "outputs": [],
   "source": [
    "outbound_mg = hc.sql('''\n",
    "SELECT\n",
    "    a.*\n",
    "FROM \n",
    "    rdtwarehouse.tmp_outbound_2019 a \n",
    "WHERE\n",
    "    brand = 'MG'\n",
    "''').toPandas()"
   ]
  },
  {
   "cell_type": "code",
   "execution_count": 427,
   "metadata": {},
   "outputs": [
    {
     "data": {
      "text/plain": [
       "(1096907, 10)"
      ]
     },
     "execution_count": 427,
     "metadata": {},
     "output_type": "execute_result"
    }
   ],
   "source": [
    "outbound_mg.shape"
   ]
  },
  {
   "cell_type": "code",
   "execution_count": 428,
   "metadata": {
    "scrolled": false
   },
   "outputs": [
    {
     "data": {
      "text/plain": [
       "mobile                 0\n",
       "brand                  0\n",
       "channel_one       423855\n",
       "channel_two       424509\n",
       "task_item_time         0\n",
       "process_time      322453\n",
       "task_type              0\n",
       "ob_count          322443\n",
       "ob_result_code    325684\n",
       "call_rank              0\n",
       "dtype: int64"
      ]
     },
     "execution_count": 428,
     "metadata": {},
     "output_type": "execute_result"
    }
   ],
   "source": [
    "outbound_2019_mg.isna().sum()"
   ]
  },
  {
   "cell_type": "code",
   "execution_count": 429,
   "metadata": {},
   "outputs": [
    {
     "data": {
      "text/html": [
       "<div>\n",
       "<style scoped>\n",
       "    .dataframe tbody tr th:only-of-type {\n",
       "        vertical-align: middle;\n",
       "    }\n",
       "\n",
       "    .dataframe tbody tr th {\n",
       "        vertical-align: top;\n",
       "    }\n",
       "\n",
       "    .dataframe thead th {\n",
       "        text-align: right;\n",
       "    }\n",
       "</style>\n",
       "<table border=\"1\" class=\"dataframe\">\n",
       "  <thead>\n",
       "    <tr style=\"text-align: right;\">\n",
       "      <th></th>\n",
       "      <th>mobile</th>\n",
       "    </tr>\n",
       "    <tr>\n",
       "      <th>task_type</th>\n",
       "      <th></th>\n",
       "    </tr>\n",
       "  </thead>\n",
       "  <tbody>\n",
       "    <tr>\n",
       "      <th>001</th>\n",
       "      <td>568335</td>\n",
       "    </tr>\n",
       "    <tr>\n",
       "      <th>002</th>\n",
       "      <td>102668</td>\n",
       "    </tr>\n",
       "    <tr>\n",
       "      <th>003</th>\n",
       "      <td>134320</td>\n",
       "    </tr>\n",
       "    <tr>\n",
       "      <th>004</th>\n",
       "      <td>12381</td>\n",
       "    </tr>\n",
       "    <tr>\n",
       "      <th>005</th>\n",
       "      <td>90143</td>\n",
       "    </tr>\n",
       "    <tr>\n",
       "      <th>006</th>\n",
       "      <td>189060</td>\n",
       "    </tr>\n",
       "  </tbody>\n",
       "</table>\n",
       "</div>"
      ],
      "text/plain": [
       "           mobile\n",
       "task_type        \n",
       "001        568335\n",
       "002        102668\n",
       "003        134320\n",
       "004         12381\n",
       "005         90143\n",
       "006        189060"
      ]
     },
     "execution_count": 429,
     "metadata": {},
     "output_type": "execute_result"
    }
   ],
   "source": [
    "outbound_2019_mg[['mobile','task_type']].groupby(['task_type']).count()"
   ]
  },
  {
   "cell_type": "code",
   "execution_count": 430,
   "metadata": {
    "scrolled": true
   },
   "outputs": [
    {
     "data": {
      "text/plain": [
       "mobile              0\n",
       "brand               0\n",
       "channel_one        46\n",
       "channel_two       689\n",
       "task_item_time      0\n",
       "process_time      609\n",
       "task_type           0\n",
       "ob_count          608\n",
       "ob_result_code    761\n",
       "call_rank           0\n",
       "dtype: int64"
      ]
     },
     "execution_count": 430,
     "metadata": {},
     "output_type": "execute_result"
    }
   ],
   "source": [
    "outbound_2019_mg[outbound_2019_mg['task_type'] == '001'].isna().sum()"
   ]
  },
  {
   "cell_type": "code",
   "execution_count": 431,
   "metadata": {},
   "outputs": [
    {
     "data": {
      "text/plain": [
       "742455"
      ]
     },
     "execution_count": 431,
     "metadata": {},
     "output_type": "execute_result"
    }
   ],
   "source": [
    "len(outbound_2019_mg['mobile'].unique())"
   ]
  },
  {
   "cell_type": "markdown",
   "metadata": {},
   "source": [
    "#### Leads Outbound"
   ]
  },
  {
   "cell_type": "code",
   "execution_count": 435,
   "metadata": {
    "scrolled": true
   },
   "outputs": [],
   "source": [
    "outbound_leads_2019 = outbound_2019_mg[(outbound_2019_mg['task_type'] == '001') & \\\n",
    "                                       (outbound_2019_mg['process_time'] < '2020-01-01')]\n",
    "outbound_leads_2020 = outbound_2019_mg[(outbound_2019_mg['task_type'] == '001') & \\\n",
    "                                       (outbound_2019_mg['process_time'] >= '2020-01-01')]"
   ]
  },
  {
   "cell_type": "code",
   "execution_count": 436,
   "metadata": {},
   "outputs": [
    {
     "data": {
      "text/html": [
       "<div>\n",
       "<style scoped>\n",
       "    .dataframe tbody tr th:only-of-type {\n",
       "        vertical-align: middle;\n",
       "    }\n",
       "\n",
       "    .dataframe tbody tr th {\n",
       "        vertical-align: top;\n",
       "    }\n",
       "\n",
       "    .dataframe thead th {\n",
       "        text-align: right;\n",
       "    }\n",
       "</style>\n",
       "<table border=\"1\" class=\"dataframe\">\n",
       "  <thead>\n",
       "    <tr style=\"text-align: right;\">\n",
       "      <th></th>\n",
       "      <th>mobile</th>\n",
       "    </tr>\n",
       "    <tr>\n",
       "      <th>ob_result_code</th>\n",
       "      <th></th>\n",
       "    </tr>\n",
       "  </thead>\n",
       "  <tbody>\n",
       "    <tr>\n",
       "      <th>002</th>\n",
       "      <td>29245</td>\n",
       "    </tr>\n",
       "    <tr>\n",
       "      <th>003</th>\n",
       "      <td>26668</td>\n",
       "    </tr>\n",
       "    <tr>\n",
       "      <th>004</th>\n",
       "      <td>56848</td>\n",
       "    </tr>\n",
       "    <tr>\n",
       "      <th>005</th>\n",
       "      <td>4214</td>\n",
       "    </tr>\n",
       "    <tr>\n",
       "      <th>006</th>\n",
       "      <td>2218</td>\n",
       "    </tr>\n",
       "    <tr>\n",
       "      <th>007</th>\n",
       "      <td>16766</td>\n",
       "    </tr>\n",
       "    <tr>\n",
       "      <th>008</th>\n",
       "      <td>14514</td>\n",
       "    </tr>\n",
       "    <tr>\n",
       "      <th>009</th>\n",
       "      <td>148</td>\n",
       "    </tr>\n",
       "    <tr>\n",
       "      <th>010</th>\n",
       "      <td>1601</td>\n",
       "    </tr>\n",
       "    <tr>\n",
       "      <th>018</th>\n",
       "      <td>2001</td>\n",
       "    </tr>\n",
       "  </tbody>\n",
       "</table>\n",
       "</div>"
      ],
      "text/plain": [
       "                mobile\n",
       "ob_result_code        \n",
       "002              29245\n",
       "003              26668\n",
       "004              56848\n",
       "005               4214\n",
       "006               2218\n",
       "007              16766\n",
       "008              14514\n",
       "009                148\n",
       "010               1601\n",
       "018               2001"
      ]
     },
     "execution_count": 436,
     "metadata": {},
     "output_type": "execute_result"
    }
   ],
   "source": [
    "# outbound result\n",
    "outbound_leads_2019[['mobile','ob_result_code']].groupby(['ob_result_code']).count()\n",
    "outbound_leads_2020[['mobile','ob_result_code']].groupby(['ob_result_code']).count()"
   ]
  },
  {
   "cell_type": "code",
   "execution_count": 411,
   "metadata": {
    "collapsed": true
   },
   "outputs": [
    {
     "name": "stderr",
     "output_type": "stream",
     "text": [
      "/app/anaconda3/envs/python37_smcsandbox/lib/python3.7/site-packages/ipykernel_launcher.py:1: SettingWithCopyWarning: \n",
      "A value is trying to be set on a copy of a slice from a DataFrame.\n",
      "Try using .loc[row_indexer,col_indexer] = value instead\n",
      "\n",
      "See the caveats in the documentation: http://pandas.pydata.org/pandas-docs/stable/user_guide/indexing.html#returning-a-view-versus-a-copy\n",
      "  \"\"\"Entry point for launching an IPython kernel.\n"
     ]
    },
    {
     "data": {
      "text/html": [
       "<div>\n",
       "<style scoped>\n",
       "    .dataframe tbody tr th:only-of-type {\n",
       "        vertical-align: middle;\n",
       "    }\n",
       "\n",
       "    .dataframe tbody tr th {\n",
       "        vertical-align: top;\n",
       "    }\n",
       "\n",
       "    .dataframe thead th {\n",
       "        text-align: right;\n",
       "    }\n",
       "</style>\n",
       "<table border=\"1\" class=\"dataframe\">\n",
       "  <thead>\n",
       "    <tr style=\"text-align: right;\">\n",
       "      <th></th>\n",
       "      <th>mobile</th>\n",
       "    </tr>\n",
       "    <tr>\n",
       "      <th>hour</th>\n",
       "      <th></th>\n",
       "    </tr>\n",
       "  </thead>\n",
       "  <tbody>\n",
       "    <tr>\n",
       "      <th>1.0</th>\n",
       "      <td>1</td>\n",
       "    </tr>\n",
       "    <tr>\n",
       "      <th>4.0</th>\n",
       "      <td>2</td>\n",
       "    </tr>\n",
       "    <tr>\n",
       "      <th>8.0</th>\n",
       "      <td>66</td>\n",
       "    </tr>\n",
       "    <tr>\n",
       "      <th>9.0</th>\n",
       "      <td>12953</td>\n",
       "    </tr>\n",
       "    <tr>\n",
       "      <th>10.0</th>\n",
       "      <td>12177</td>\n",
       "    </tr>\n",
       "    <tr>\n",
       "      <th>11.0</th>\n",
       "      <td>9801</td>\n",
       "    </tr>\n",
       "    <tr>\n",
       "      <th>12.0</th>\n",
       "      <td>3495</td>\n",
       "    </tr>\n",
       "    <tr>\n",
       "      <th>13.0</th>\n",
       "      <td>11106</td>\n",
       "    </tr>\n",
       "    <tr>\n",
       "      <th>14.0</th>\n",
       "      <td>11990</td>\n",
       "    </tr>\n",
       "    <tr>\n",
       "      <th>15.0</th>\n",
       "      <td>12439</td>\n",
       "    </tr>\n",
       "    <tr>\n",
       "      <th>16.0</th>\n",
       "      <td>11502</td>\n",
       "    </tr>\n",
       "    <tr>\n",
       "      <th>17.0</th>\n",
       "      <td>6013</td>\n",
       "    </tr>\n",
       "    <tr>\n",
       "      <th>18.0</th>\n",
       "      <td>895</td>\n",
       "    </tr>\n",
       "    <tr>\n",
       "      <th>19.0</th>\n",
       "      <td>229</td>\n",
       "    </tr>\n",
       "    <tr>\n",
       "      <th>20.0</th>\n",
       "      <td>3</td>\n",
       "    </tr>\n",
       "  </tbody>\n",
       "</table>\n",
       "</div>"
      ],
      "text/plain": [
       "      mobile\n",
       "hour        \n",
       "1.0        1\n",
       "4.0        2\n",
       "8.0       66\n",
       "9.0    12953\n",
       "10.0   12177\n",
       "11.0    9801\n",
       "12.0    3495\n",
       "13.0   11106\n",
       "14.0   11990\n",
       "15.0   12439\n",
       "16.0   11502\n",
       "17.0    6013\n",
       "18.0     895\n",
       "19.0     229\n",
       "20.0       3"
      ]
     },
     "execution_count": 411,
     "metadata": {},
     "output_type": "execute_result"
    }
   ],
   "source": [
    "outbound_leads['hour'] = outbound_leads['process_time'].dt.hour\n",
    "outbound_leads[['mobile', 'hour']].groupby(['hour']).count()\n",
    "\n",
    "outbound_success = outbound_leads[(outbound_leads['ob_result_code'] == '007') | (outbound_leads['ob_result_code'] == '002') |\\\n",
    "                  (outbound_leads['ob_result_code'] == '008')][['mobile','process_time']]\n",
    "outbound_success['hour'] = outbound_success['process_time'].dt.hour\n",
    "outbound_success[['mobile', 'hour']].groupby(['hour']).count()\n",
    "\n",
    "outbound_cust = outbound_leads[(outbound_leads['ob_result_code'] == '007')][['mobile','process_time']]\n",
    "outbound_cust['hour'] = outbound_cust['process_time'].dt.hour\n",
    "outbound_cust[['mobile', 'hour']].groupby(['hour']).count()"
   ]
  },
  {
   "cell_type": "code",
   "execution_count": 245,
   "metadata": {},
   "outputs": [],
   "source": [
    "# remove days with more than 6500 calls\n",
    "normal_days = daily_workload_mg_2019[daily_workload_mg_2019['outbound_vol'] <= 6500]"
   ]
  },
  {
   "cell_type": "code",
   "execution_count": 253,
   "metadata": {},
   "outputs": [
    {
     "data": {
      "text/plain": [
       "(0, 7]         5178\n",
       "(7, 14]         935\n",
       "(14, 20]      50724\n",
       "(20, 25]       1602\n",
       "(25, 30]        880\n",
       "(30, 60]       4254\n",
       "(60, 90]       1157\n",
       "(90, 1000]     4241\n",
       "dtype: int64"
      ]
     },
     "execution_count": 253,
     "metadata": {},
     "output_type": "execute_result"
    }
   ],
   "source": [
    "outbound_leads_rank_diff_nor = outbound_leads_rank[(outbound_leads_rank['task_rank'] == 1) & (outbound_leads_rank['task_item_time'].isin(normal_days['task_item_date']))]\\\n",
    "[['mobile','task_item_time']].merge(outbound_leads_rank[outbound_leads_rank['task_rank'] == 2][['mobile','task_item_time']],\\\n",
    "                                                                                                 on = 'mobile', how = 'inner')\n",
    "outbound_leads_rank_diff_nor['diff'] = outbound_leads_rank_diff_nor['task_item_time_y'] - outbound_leads_rank_diff_nor['task_item_time_x']\n",
    "outbound_leads_rank_diff_nor['diff'] = outbound_leads_rank_diff_nor['diff'].astype('timedelta64[D]').astype(int)\n",
    "\n",
    "pd.cut(outbound_leads_rank_diff_nor['diff'].values, bins=[0, 7, 14, 20, 25, 30, 60, 90, 1000]).value_counts()"
   ]
  },
  {
   "cell_type": "code",
   "execution_count": 259,
   "metadata": {
    "scrolled": true
   },
   "outputs": [
    {
     "data": {
      "text/html": [
       "<div>\n",
       "<style scoped>\n",
       "    .dataframe tbody tr th:only-of-type {\n",
       "        vertical-align: middle;\n",
       "    }\n",
       "\n",
       "    .dataframe tbody tr th {\n",
       "        vertical-align: top;\n",
       "    }\n",
       "\n",
       "    .dataframe thead th {\n",
       "        text-align: right;\n",
       "    }\n",
       "</style>\n",
       "<table border=\"1\" class=\"dataframe\">\n",
       "  <thead>\n",
       "    <tr style=\"text-align: right;\">\n",
       "      <th></th>\n",
       "      <th>mobile</th>\n",
       "    </tr>\n",
       "    <tr>\n",
       "      <th>ob_result_code</th>\n",
       "      <th></th>\n",
       "    </tr>\n",
       "  </thead>\n",
       "  <tbody>\n",
       "    <tr>\n",
       "      <th>002</th>\n",
       "      <td>4432</td>\n",
       "    </tr>\n",
       "    <tr>\n",
       "      <th>003</th>\n",
       "      <td>8662</td>\n",
       "    </tr>\n",
       "    <tr>\n",
       "      <th>004</th>\n",
       "      <td>9124</td>\n",
       "    </tr>\n",
       "    <tr>\n",
       "      <th>005</th>\n",
       "      <td>1333</td>\n",
       "    </tr>\n",
       "    <tr>\n",
       "      <th>006</th>\n",
       "      <td>871</td>\n",
       "    </tr>\n",
       "    <tr>\n",
       "      <th>007</th>\n",
       "      <td>87276</td>\n",
       "    </tr>\n",
       "    <tr>\n",
       "      <th>008</th>\n",
       "      <td>4110</td>\n",
       "    </tr>\n",
       "    <tr>\n",
       "      <th>009</th>\n",
       "      <td>72</td>\n",
       "    </tr>\n",
       "    <tr>\n",
       "      <th>010</th>\n",
       "      <td>536</td>\n",
       "    </tr>\n",
       "    <tr>\n",
       "      <th>018</th>\n",
       "      <td>48</td>\n",
       "    </tr>\n",
       "  </tbody>\n",
       "</table>\n",
       "</div>"
      ],
      "text/plain": [
       "                mobile\n",
       "ob_result_code        \n",
       "002               4432\n",
       "003               8662\n",
       "004               9124\n",
       "005               1333\n",
       "006                871\n",
       "007              87276\n",
       "008               4110\n",
       "009                 72\n",
       "010                536\n",
       "018                 48"
      ]
     },
     "execution_count": 259,
     "metadata": {},
     "output_type": "execute_result"
    }
   ],
   "source": [
    "outbound_leads_001[outbound_leads_001['mobile'].isin(outbound_leads_rank_diff['mobile'])][['mobile','ob_result_code']].\\\n",
    "groupby(['ob_result_code']).count()"
   ]
  },
  {
   "cell_type": "markdown",
   "metadata": {},
   "source": [
    "#### Failed customers outbound"
   ]
  },
  {
   "cell_type": "code",
   "execution_count": 448,
   "metadata": {},
   "outputs": [],
   "source": [
    "outbound_failed_2019 = outbound_2019_mg[(outbound_2019_mg['task_type'] == '003') & \\\n",
    "                                       (outbound_2019_mg['process_time'] < '2020-01-01')]\n",
    "outbound_failed_2020 = outbound_2019_mg[(outbound_2019_mg['task_type'] == '003') & \\\n",
    "                                       (outbound_2019_mg['process_time'] >= '2020-01-01')]\n",
    "outbound_failed = outbound_2019_mg[(outbound_2019_mg['task_type'] == '003')]"
   ]
  },
  {
   "cell_type": "code",
   "execution_count": 569,
   "metadata": {},
   "outputs": [
    {
     "data": {
      "text/plain": [
       "107018"
      ]
     },
     "execution_count": 569,
     "metadata": {},
     "output_type": "execute_result"
    }
   ],
   "source": [
    "len(outbound_failed['mobile'].unique())"
   ]
  },
  {
   "cell_type": "code",
   "execution_count": 440,
   "metadata": {
    "scrolled": true
   },
   "outputs": [
    {
     "data": {
      "text/html": [
       "<div>\n",
       "<style scoped>\n",
       "    .dataframe tbody tr th:only-of-type {\n",
       "        vertical-align: middle;\n",
       "    }\n",
       "\n",
       "    .dataframe tbody tr th {\n",
       "        vertical-align: top;\n",
       "    }\n",
       "\n",
       "    .dataframe thead th {\n",
       "        text-align: right;\n",
       "    }\n",
       "</style>\n",
       "<table border=\"1\" class=\"dataframe\">\n",
       "  <thead>\n",
       "    <tr style=\"text-align: right;\">\n",
       "      <th></th>\n",
       "      <th>mobile</th>\n",
       "    </tr>\n",
       "    <tr>\n",
       "      <th>ob_result_code</th>\n",
       "      <th></th>\n",
       "    </tr>\n",
       "  </thead>\n",
       "  <tbody>\n",
       "    <tr>\n",
       "      <th>002</th>\n",
       "      <td>152</td>\n",
       "    </tr>\n",
       "    <tr>\n",
       "      <th>003</th>\n",
       "      <td>8237</td>\n",
       "    </tr>\n",
       "    <tr>\n",
       "      <th>004</th>\n",
       "      <td>11762</td>\n",
       "    </tr>\n",
       "    <tr>\n",
       "      <th>005</th>\n",
       "      <td>1030</td>\n",
       "    </tr>\n",
       "    <tr>\n",
       "      <th>006</th>\n",
       "      <td>584</td>\n",
       "    </tr>\n",
       "    <tr>\n",
       "      <th>007</th>\n",
       "      <td>823</td>\n",
       "    </tr>\n",
       "    <tr>\n",
       "      <th>008</th>\n",
       "      <td>11522</td>\n",
       "    </tr>\n",
       "    <tr>\n",
       "      <th>009</th>\n",
       "      <td>4</td>\n",
       "    </tr>\n",
       "    <tr>\n",
       "      <th>010</th>\n",
       "      <td>669</td>\n",
       "    </tr>\n",
       "    <tr>\n",
       "      <th>018</th>\n",
       "      <td>2512</td>\n",
       "    </tr>\n",
       "  </tbody>\n",
       "</table>\n",
       "</div>"
      ],
      "text/plain": [
       "                mobile\n",
       "ob_result_code        \n",
       "002                152\n",
       "003               8237\n",
       "004              11762\n",
       "005               1030\n",
       "006                584\n",
       "007                823\n",
       "008              11522\n",
       "009                  4\n",
       "010                669\n",
       "018               2512"
      ]
     },
     "execution_count": 440,
     "metadata": {},
     "output_type": "execute_result"
    }
   ],
   "source": [
    "# outbound result\n",
    "outbound_failed_2019[['mobile','ob_result_code']].groupby(['ob_result_code']).count()\n",
    "outbound_failed_2020[['mobile','ob_result_code']].groupby(['ob_result_code']).count()"
   ]
  },
  {
   "cell_type": "code",
   "execution_count": 529,
   "metadata": {},
   "outputs": [],
   "source": [
    "failed_date = hc.sql('''\n",
    "SELECT\n",
    "    id as mobile, MAX(score) AS failed_date\n",
    "FROM \n",
    "    rdtwarehouse.tmp_mg_tags_0513\n",
    "WHERE \n",
    "    tagid IN ('506806140933')\n",
    "GROUP BY id\n",
    "''').toPandas()"
   ]
  },
  {
   "cell_type": "code",
   "execution_count": 550,
   "metadata": {},
   "outputs": [],
   "source": [
    "failed_date['failed_date'] = [datetime(year=int(str(i)[0:4]), month=int(str(i)[4:6]), day=int(str(i)[6:8])).isoformat() \\\n",
    "                            for i in failed_date['failed_date']]"
   ]
  },
  {
   "cell_type": "code",
   "execution_count": 572,
   "metadata": {},
   "outputs": [
    {
     "name": "stderr",
     "output_type": "stream",
     "text": [
      "/app/anaconda3/envs/python37_smcsandbox/lib/python3.7/site-packages/ipykernel_launcher.py:1: SettingWithCopyWarning: \n",
      "A value is trying to be set on a copy of a slice from a DataFrame.\n",
      "Try using .loc[row_indexer,col_indexer] = value instead\n",
      "\n",
      "See the caveats in the documentation: http://pandas.pydata.org/pandas-docs/stable/user_guide/indexing.html#returning-a-view-versus-a-copy\n",
      "  \"\"\"Entry point for launching an IPython kernel.\n"
     ]
    }
   ],
   "source": [
    "outbound_failed['mobile'] = outbound_failed['mobile'].astype(int)\n",
    "failed_date['mobile'] = failed_date['mobile'].astype(int)\n",
    "failed_engage = failed_date.merge(outbound_failed[['mobile','process_time']], \\\n",
    "                                  how = 'left', on = 'mobile')\n",
    "\n",
    "fail_date_2019 = failed_date[(failed_date['failed_date'] >= '2019-01-01') & (failed_date['failed_date'] <= '2019-12-31')]\n",
    "failed_engage_2019 = fail_date_2019.merge(outbound_failed[['mobile','process_time']], how = 'left', on = 'mobile')\n",
    "\n",
    "fail_date_2020 = failed_date[(failed_date['failed_date'] >= '2020-01-01') & (failed_date['failed_date'] <= '2020-12-31')]\n",
    "failed_engage_2020 = fail_date_2020.merge(outbound_failed[['mobile','process_time']], how = 'left', on = 'mobile')"
   ]
  },
  {
   "cell_type": "code",
   "execution_count": 574,
   "metadata": {
    "scrolled": true
   },
   "outputs": [
    {
     "name": "stdout",
     "output_type": "stream",
     "text": [
      "Failed 2019: 761922 \t Failed 2020: 200662\n"
     ]
    }
   ],
   "source": [
    "print('Failed 2019:',len(fail_date_2019['mobile'].unique()), '\\t',\n",
    "      'Failed 2020:',len(fail_date_2020['mobile'].unique()))"
   ]
  },
  {
   "cell_type": "code",
   "execution_count": 587,
   "metadata": {},
   "outputs": [
    {
     "name": "stdout",
     "output_type": "stream",
     "text": [
      "Failed Engaged 2019: 23768 \t Failed Engaged 2020: 13859\n"
     ]
    }
   ],
   "source": [
    "print('Failed Engaged 2019:',len(failed_engage_2019[failed_engage_2019['process_time'].isna() == False]['mobile'].unique()),'\\t',\n",
    "      'Failed Engaged 2020:',len(failed_engage_2020[failed_engage_2020['process_time'].isna() == False]['mobile'].unique()))"
   ]
  },
  {
   "cell_type": "code",
   "execution_count": 562,
   "metadata": {},
   "outputs": [
    {
     "data": {
      "text/plain": [
       "mobile                0\n",
       "failed_date           0\n",
       "process_time    2194967\n",
       "dtype: int64"
      ]
     },
     "execution_count": 562,
     "metadata": {},
     "output_type": "execute_result"
    }
   ],
   "source": [
    "failed_engage.isna().sum()"
   ]
  },
  {
   "cell_type": "code",
   "execution_count": 563,
   "metadata": {},
   "outputs": [
    {
     "data": {
      "text/plain": [
       "mobile                0\n",
       "failed_date           0\n",
       "process_time    1375562\n",
       "dtype: int64"
      ]
     },
     "execution_count": 563,
     "metadata": {},
     "output_type": "execute_result"
    }
   ],
   "source": [
    "failed_engage_2019.isna().sum()"
   ]
  },
  {
   "cell_type": "code",
   "execution_count": 492,
   "metadata": {},
   "outputs": [],
   "source": [
    "status = hc.sql('''\n",
    "SELECT DISTINCT\n",
    "    id, tagid\n",
    "FROM rdtwarehouse.tmp_mg_tags_0513\n",
    "WHERE \n",
    "    tagid IN\n",
    "    ('609885356032','609885356033','609885356034','609885356035',\n",
    "    '609885356036','609885356037','609885356038','609885356039',\n",
    "    '609885356040')\n",
    "''').toPandas()"
   ]
  },
  {
   "cell_type": "code",
   "execution_count": 546,
   "metadata": {},
   "outputs": [
    {
     "data": {
      "text/html": [
       "<div>\n",
       "<style scoped>\n",
       "    .dataframe tbody tr th:only-of-type {\n",
       "        vertical-align: middle;\n",
       "    }\n",
       "\n",
       "    .dataframe tbody tr th {\n",
       "        vertical-align: top;\n",
       "    }\n",
       "\n",
       "    .dataframe thead th {\n",
       "        text-align: right;\n",
       "    }\n",
       "</style>\n",
       "<table border=\"1\" class=\"dataframe\">\n",
       "  <thead>\n",
       "    <tr style=\"text-align: right;\">\n",
       "      <th></th>\n",
       "      <th>mobile</th>\n",
       "    </tr>\n",
       "    <tr>\n",
       "      <th>tagid</th>\n",
       "      <th></th>\n",
       "    </tr>\n",
       "  </thead>\n",
       "  <tbody>\n",
       "    <tr>\n",
       "      <th>609885356033</th>\n",
       "      <td>23320</td>\n",
       "    </tr>\n",
       "    <tr>\n",
       "      <th>609885356034</th>\n",
       "      <td>1173</td>\n",
       "    </tr>\n",
       "    <tr>\n",
       "      <th>609885356035</th>\n",
       "      <td>30817</td>\n",
       "    </tr>\n",
       "    <tr>\n",
       "      <th>609885356036</th>\n",
       "      <td>10825</td>\n",
       "    </tr>\n",
       "    <tr>\n",
       "      <th>609885356037</th>\n",
       "      <td>50</td>\n",
       "    </tr>\n",
       "    <tr>\n",
       "      <th>609885356038</th>\n",
       "      <td>31</td>\n",
       "    </tr>\n",
       "    <tr>\n",
       "      <th>609885356039</th>\n",
       "      <td>193</td>\n",
       "    </tr>\n",
       "  </tbody>\n",
       "</table>\n",
       "</div>"
      ],
      "text/plain": [
       "              mobile\n",
       "tagid               \n",
       "609885356033   23320\n",
       "609885356034    1173\n",
       "609885356035   30817\n",
       "609885356036   10825\n",
       "609885356037      50\n",
       "609885356038      31\n",
       "609885356039     193"
      ]
     },
     "execution_count": 546,
     "metadata": {},
     "output_type": "execute_result"
    }
   ],
   "source": [
    "outbound_failed_out = outbound_failed[~outbound_failed['mobile'].isin(failed_engage['mobile'])]\n",
    "status['id'] = status['id'].astype(int)\n",
    "status['tagid'] = status['tagid'].astype(str)\n",
    "\n",
    "outbound_failed_out.merge(status, how = 'left', left_on = 'mobile', right_on = 'id')[['tagid','mobile']].\\\n",
    "groupby(['tagid']).count()"
   ]
  },
  {
   "cell_type": "code",
   "execution_count": 564,
   "metadata": {},
   "outputs": [],
   "source": [
    "failed_engage['failed_date'] = pd.to_datetime(failed_engage['failed_date'],format=\"%Y-%m-%dT%H:%M:%S\")"
   ]
  },
  {
   "cell_type": "code",
   "execution_count": 565,
   "metadata": {
    "scrolled": true
   },
   "outputs": [],
   "source": [
    "failed_engage['diff'] = failed_engage['process_time']- failed_engage['failed_date']\n",
    "failed_engage = failed_engage.dropna()\n",
    "failed_engage['diff'] = failed_engage['diff'].astype('timedelta64[D]').astype(int)"
   ]
  },
  {
   "cell_type": "code",
   "execution_count": 566,
   "metadata": {},
   "outputs": [
    {
     "data": {
      "text/plain": [
       "38294"
      ]
     },
     "execution_count": 566,
     "metadata": {},
     "output_type": "execute_result"
    }
   ],
   "source": [
    "len(failed_engage['mobile'].unique())"
   ]
  },
  {
   "cell_type": "code",
   "execution_count": 568,
   "metadata": {
    "scrolled": true
   },
   "outputs": [
    {
     "data": {
      "text/plain": [
       "(-1000, -1]    15860\n",
       "(-1, 7]         3725\n",
       "(7, 14]         4995\n",
       "(14, 20]        3478\n",
       "(20, 25]        2184\n",
       "(25, 30]        2159\n",
       "(30, 60]        6587\n",
       "(60, 90]        3040\n",
       "(90, 1000]      5271\n",
       "dtype: int64"
      ]
     },
     "execution_count": 568,
     "metadata": {},
     "output_type": "execute_result"
    }
   ],
   "source": [
    "pd.cut(failed_engage['diff'].values, bins=[-1000, -1, 7, 14, 20, 25, 30, 60, 90, 1000]).value_counts()"
   ]
  },
  {
   "cell_type": "markdown",
   "metadata": {},
   "source": [
    "#### Workload"
   ]
  },
  {
   "cell_type": "code",
   "execution_count": 423,
   "metadata": {},
   "outputs": [],
   "source": [
    "daily_workload_leads = hc.sql('''\n",
    "SELECT\n",
    "    CAST(a.create_time AS DATE) AS cust_time,\n",
    "    COUNT(Distinct mobile_no) AS outbound_vol\n",
    "FROM\n",
    "    rdtwarehouse.ods_smcsc_tsk_customer a\n",
    "LEFT JOIN\n",
    "    rdtwarehouse.ods_smcsc_tsk_task_item b\n",
    "ON a.id = b.cust_id\n",
    "LEFT JOIN \n",
    "    rdtwarehouse.ods_smcsc_tsk_task c\n",
    "ON b.task_id = c.id\n",
    "WHERE \n",
    "    task_type = '001'\n",
    "GROUP BY CAST(a.create_time AS DATE)\n",
    "''').toPandas()"
   ]
  },
  {
   "cell_type": "code",
   "execution_count": 424,
   "metadata": {},
   "outputs": [],
   "source": [
    "daily_workload_leads.to_csv('EDA_result/daily_workload_leads.csv')"
   ]
  },
  {
   "cell_type": "code",
   "execution_count": 421,
   "metadata": {},
   "outputs": [],
   "source": [
    "daily_workload_failed = hc.sql('''\n",
    "SELECT\n",
    "    CAST(a.create_time AS DATE) AS cust_time,\n",
    "    COUNT(Distinct mobile_no) AS outbound_vol\n",
    "FROM\n",
    "    rdtwarehouse.ods_smcsc_tsk_customer a\n",
    "LEFT JOIN\n",
    "    rdtwarehouse.ods_smcsc_tsk_task_item b\n",
    "ON a.id = b.cust_id\n",
    "LEFT JOIN \n",
    "    rdtwarehouse.ods_smcsc_tsk_task c\n",
    "ON b.task_id = c.id\n",
    "WHERE \n",
    "    task_type = '003'\n",
    "GROUP BY CAST(a.create_time AS DATE)\n",
    "''').toPandas()"
   ]
  },
  {
   "cell_type": "code",
   "execution_count": 422,
   "metadata": {},
   "outputs": [],
   "source": [
    "daily_workload_failed.to_csv('EDA_result/daily_workload_failed.csv')"
   ]
  },
  {
   "cell_type": "markdown",
   "metadata": {},
   "source": [
    "#### Adhoc"
   ]
  },
  {
   "cell_type": "code",
   "execution_count": null,
   "metadata": {},
   "outputs": [],
   "source": []
  },
  {
   "cell_type": "code",
   "execution_count": null,
   "metadata": {},
   "outputs": [],
   "source": []
  }
 ],
 "metadata": {
  "kernelspec": {
   "display_name": "python37_smcsandbox",
   "language": "python",
   "name": "python3"
  },
  "language_info": {
   "codemirror_mode": {
    "name": "ipython",
    "version": 3
   },
   "file_extension": ".py",
   "mimetype": "text/x-python",
   "name": "python",
   "nbconvert_exporter": "python",
   "pygments_lexer": "ipython3",
   "version": "3.7.5"
  }
 },
 "nbformat": 4,
 "nbformat_minor": 2
}
