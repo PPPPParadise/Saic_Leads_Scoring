{
 "cells": [
  {
   "cell_type": "code",
   "execution_count": 5,
   "metadata": {},
   "outputs": [],
   "source": [
    "import pandas as pd\n",
    "import numpy as np\n",
    "import matplotlib.pyplot as plt\n",
    "import seaborn as sns"
   ]
  },
  {
   "cell_type": "markdown",
   "metadata": {},
   "source": [
    "### Read data"
   ]
  },
  {
   "cell_type": "code",
   "execution_count": 113,
   "metadata": {},
   "outputs": [],
   "source": [
    "#wide_info_auto_trans = pd.read_csv('/home/mam_jupyter/jupyter_dir/artefact/leads_scoring_model/wide_info_auto.csv', delimiter = ',', index_col = 0)"
   ]
  },
  {
   "cell_type": "code",
   "execution_count": 131,
   "metadata": {},
   "outputs": [],
   "source": [
    "lm_auto = pd.read_csv('lift_matrix_auto.csv')"
   ]
  },
  {
   "cell_type": "code",
   "execution_count": 132,
   "metadata": {},
   "outputs": [
    {
     "data": {
      "text/html": [
       "<div>\n",
       "<style scoped>\n",
       "    .dataframe tbody tr th:only-of-type {\n",
       "        vertical-align: middle;\n",
       "    }\n",
       "\n",
       "    .dataframe tbody tr th {\n",
       "        vertical-align: top;\n",
       "    }\n",
       "\n",
       "    .dataframe thead th {\n",
       "        text-align: right;\n",
       "    }\n",
       "</style>\n",
       "<table border=\"1\" class=\"dataframe\">\n",
       "  <thead>\n",
       "    <tr style=\"text-align: right;\">\n",
       "      <th></th>\n",
       "      <th>action</th>\n",
       "      <th>0</th>\n",
       "      <th>1</th>\n",
       "      <th>Total action population</th>\n",
       "      <th>action_origin</th>\n",
       "      <th>right</th>\n",
       "      <th>comment</th>\n",
       "    </tr>\n",
       "  </thead>\n",
       "  <tbody>\n",
       "    <tr>\n",
       "      <th>0</th>\n",
       "      <td>1.0</td>\n",
       "      <td>0.999359</td>\n",
       "      <td>1.004554</td>\n",
       "      <td>156184</td>\n",
       "      <td>d_fir_leads_time_weekday</td>\n",
       "      <td>NaN</td>\n",
       "      <td>NaN</td>\n",
       "    </tr>\n",
       "    <tr>\n",
       "      <th>1</th>\n",
       "      <td>0.0</td>\n",
       "      <td>1.016487</td>\n",
       "      <td>0.882824</td>\n",
       "      <td>6070</td>\n",
       "      <td>d_fir_leads_time_weekday</td>\n",
       "      <td>NaN</td>\n",
       "      <td>NaN</td>\n",
       "    </tr>\n",
       "    <tr>\n",
       "      <th>2</th>\n",
       "      <td>1.0</td>\n",
       "      <td>1.000000</td>\n",
       "      <td>1.000000</td>\n",
       "      <td>162254</td>\n",
       "      <td>d_fir_card_time_weekday</td>\n",
       "      <td>NaN</td>\n",
       "      <td>NaN</td>\n",
       "    </tr>\n",
       "    <tr>\n",
       "      <th>3</th>\n",
       "      <td>0.0</td>\n",
       "      <td>1.052333</td>\n",
       "      <td>0.628070</td>\n",
       "      <td>117784</td>\n",
       "      <td>d_fir_trail_weekday</td>\n",
       "      <td>NaN</td>\n",
       "      <td>NaN</td>\n",
       "    </tr>\n",
       "    <tr>\n",
       "      <th>4</th>\n",
       "      <td>1.0</td>\n",
       "      <td>0.861391</td>\n",
       "      <td>1.985100</td>\n",
       "      <td>44470</td>\n",
       "      <td>d_fir_trail_weekday</td>\n",
       "      <td>NaN</td>\n",
       "      <td>NaN</td>\n",
       "    </tr>\n",
       "  </tbody>\n",
       "</table>\n",
       "</div>"
      ],
      "text/plain": [
       "  action         0         1  Total action population  \\\n",
       "0    1.0  0.999359  1.004554                   156184   \n",
       "1    0.0  1.016487  0.882824                     6070   \n",
       "2    1.0  1.000000  1.000000                   162254   \n",
       "3    0.0  1.052333  0.628070                   117784   \n",
       "4    1.0  0.861391  1.985100                    44470   \n",
       "\n",
       "              action_origin  right comment  \n",
       "0  d_fir_leads_time_weekday    NaN     NaN  \n",
       "1  d_fir_leads_time_weekday    NaN     NaN  \n",
       "2   d_fir_card_time_weekday    NaN     NaN  \n",
       "3       d_fir_trail_weekday    NaN     NaN  \n",
       "4       d_fir_trail_weekday    NaN     NaN  "
      ]
     },
     "execution_count": 132,
     "metadata": {},
     "output_type": "execute_result"
    }
   ],
   "source": [
    "lm_auto.head()"
   ]
  },
  {
   "cell_type": "code",
   "execution_count": 133,
   "metadata": {},
   "outputs": [
    {
     "data": {
      "text/plain": [
       "139"
      ]
     },
     "execution_count": 133,
     "metadata": {},
     "output_type": "execute_result"
    }
   ],
   "source": [
    "len(lm_auto['action_origin'].unique())"
   ]
  },
  {
   "cell_type": "markdown",
   "metadata": {},
   "source": [
    "### Filter actions with small lift score"
   ]
  },
  {
   "cell_type": "code",
   "execution_count": 134,
   "metadata": {},
   "outputs": [],
   "source": [
    "lm_auto['failed_score'] = [1 if i <= 1.1 and i >= 0.9 else 0 for i in lm_auto['0']]\n",
    "lm_auto['deal_score'] = [1 if i <= 1.1 and i >= 0.9 else 0 for i in lm_auto['1']]"
   ]
  },
  {
   "cell_type": "code",
   "execution_count": 135,
   "metadata": {},
   "outputs": [
    {
     "data": {
      "text/html": [
       "<div>\n",
       "<style scoped>\n",
       "    .dataframe tbody tr th:only-of-type {\n",
       "        vertical-align: middle;\n",
       "    }\n",
       "\n",
       "    .dataframe tbody tr th {\n",
       "        vertical-align: top;\n",
       "    }\n",
       "\n",
       "    .dataframe thead th {\n",
       "        text-align: right;\n",
       "    }\n",
       "</style>\n",
       "<table border=\"1\" class=\"dataframe\">\n",
       "  <thead>\n",
       "    <tr style=\"text-align: right;\">\n",
       "      <th></th>\n",
       "      <th>action</th>\n",
       "      <th>0</th>\n",
       "      <th>1</th>\n",
       "      <th>Total action population</th>\n",
       "      <th>action_origin</th>\n",
       "      <th>right</th>\n",
       "      <th>comment</th>\n",
       "      <th>failed_score</th>\n",
       "      <th>deal_score</th>\n",
       "    </tr>\n",
       "  </thead>\n",
       "  <tbody>\n",
       "    <tr>\n",
       "      <th>0</th>\n",
       "      <td>1.0</td>\n",
       "      <td>0.999359</td>\n",
       "      <td>1.004554</td>\n",
       "      <td>156184</td>\n",
       "      <td>d_fir_leads_time_weekday</td>\n",
       "      <td>NaN</td>\n",
       "      <td>NaN</td>\n",
       "      <td>1</td>\n",
       "      <td>1</td>\n",
       "    </tr>\n",
       "    <tr>\n",
       "      <th>1</th>\n",
       "      <td>0.0</td>\n",
       "      <td>1.016487</td>\n",
       "      <td>0.882824</td>\n",
       "      <td>6070</td>\n",
       "      <td>d_fir_leads_time_weekday</td>\n",
       "      <td>NaN</td>\n",
       "      <td>NaN</td>\n",
       "      <td>1</td>\n",
       "      <td>0</td>\n",
       "    </tr>\n",
       "    <tr>\n",
       "      <th>2</th>\n",
       "      <td>1.0</td>\n",
       "      <td>1.000000</td>\n",
       "      <td>1.000000</td>\n",
       "      <td>162254</td>\n",
       "      <td>d_fir_card_time_weekday</td>\n",
       "      <td>NaN</td>\n",
       "      <td>NaN</td>\n",
       "      <td>1</td>\n",
       "      <td>1</td>\n",
       "    </tr>\n",
       "    <tr>\n",
       "      <th>3</th>\n",
       "      <td>0.0</td>\n",
       "      <td>1.052333</td>\n",
       "      <td>0.628070</td>\n",
       "      <td>117784</td>\n",
       "      <td>d_fir_trail_weekday</td>\n",
       "      <td>NaN</td>\n",
       "      <td>NaN</td>\n",
       "      <td>1</td>\n",
       "      <td>0</td>\n",
       "    </tr>\n",
       "    <tr>\n",
       "      <th>4</th>\n",
       "      <td>1.0</td>\n",
       "      <td>0.861391</td>\n",
       "      <td>1.985100</td>\n",
       "      <td>44470</td>\n",
       "      <td>d_fir_trail_weekday</td>\n",
       "      <td>NaN</td>\n",
       "      <td>NaN</td>\n",
       "      <td>0</td>\n",
       "      <td>0</td>\n",
       "    </tr>\n",
       "  </tbody>\n",
       "</table>\n",
       "</div>"
      ],
      "text/plain": [
       "  action         0         1  Total action population  \\\n",
       "0    1.0  0.999359  1.004554                   156184   \n",
       "1    0.0  1.016487  0.882824                     6070   \n",
       "2    1.0  1.000000  1.000000                   162254   \n",
       "3    0.0  1.052333  0.628070                   117784   \n",
       "4    1.0  0.861391  1.985100                    44470   \n",
       "\n",
       "              action_origin  right comment  failed_score  deal_score  \n",
       "0  d_fir_leads_time_weekday    NaN     NaN             1           1  \n",
       "1  d_fir_leads_time_weekday    NaN     NaN             1           0  \n",
       "2   d_fir_card_time_weekday    NaN     NaN             1           1  \n",
       "3       d_fir_trail_weekday    NaN     NaN             1           0  \n",
       "4       d_fir_trail_weekday    NaN     NaN             0           0  "
      ]
     },
     "execution_count": 135,
     "metadata": {},
     "output_type": "execute_result"
    }
   ],
   "source": [
    "lm_auto.head()"
   ]
  },
  {
   "cell_type": "code",
   "execution_count": 136,
   "metadata": {},
   "outputs": [],
   "source": [
    "def count_distribution(df, col1, col2):\n",
    "    '''\n",
    "    Calculate the distribution group by given columns given:\n",
    "    df(dataframe): input dataframe;\n",
    "    col1(string): column used to group by\n",
    "    col2(string): column used to group by    \n",
    "    '''\n",
    "    dis_df = df[['Total action population',col1, col2]].groupby([col1, col2], as_index = False).sum().\\\n",
    "    merge(df[['Total action population',col1]].groupby([col1], as_index = False).sum(), how = 'left', on = col1)    \n",
    "    dis_df['pop_rate'] = dis_df['Total action population_x'] / dis_df['Total action population_y']\n",
    "    return dis_df"
   ]
  },
  {
   "cell_type": "code",
   "execution_count": 137,
   "metadata": {},
   "outputs": [],
   "source": [
    "lm_auto = lm_auto.merge(count_distribution(lm_auto, 'action_origin', 'action')[['action', 'pop_rate','action_origin']], on = ['action','action_origin'], how = 'left')"
   ]
  },
  {
   "cell_type": "code",
   "execution_count": 138,
   "metadata": {},
   "outputs": [],
   "source": [
    "no_difference_list = []\n",
    "def no_difference_2(feature_list):    \n",
    "    for feature in feature_list:\n",
    "        feature_action_list = list(lm_auto[lm_auto['action_origin'] == feature]['action'])\n",
    "        for action in feature_action_list:\n",
    "            df = lm_auto[(lm_auto['action'] == action)&(lm_auto['action_origin']==feature)]\n",
    "            if ((df['failed_score'] == 1) & (df['deal_score'] == 1) & (df['pop_rate'] >= 0.90)).bool() == True:\n",
    "                value = feature\n",
    "            else:\n",
    "                value = np.nan\n",
    "            no_difference_list.append(value)\n",
    "    return no_difference_list"
   ]
  },
  {
   "cell_type": "code",
   "execution_count": 139,
   "metadata": {},
   "outputs": [],
   "source": [
    "no_difference_feature = list(set(no_difference_2(list(lm_auto['action_origin'].unique()))))"
   ]
  },
  {
   "cell_type": "code",
   "execution_count": 140,
   "metadata": {},
   "outputs": [],
   "source": [
    "lm_auto = lm_auto[~lm_auto['action_origin'].isin(no_difference_feature)]"
   ]
  },
  {
   "cell_type": "code",
   "execution_count": 141,
   "metadata": {},
   "outputs": [
    {
     "data": {
      "text/plain": [
       "86"
      ]
     },
     "execution_count": 141,
     "metadata": {},
     "output_type": "execute_result"
    }
   ],
   "source": [
    "len(lm_auto['action_origin'].unique())"
   ]
  },
  {
   "cell_type": "code",
   "execution_count": 142,
   "metadata": {},
   "outputs": [],
   "source": [
    "lm_auto.to_csv('lm_remained_auto.csv',index = False)"
   ]
  },
  {
   "cell_type": "code",
   "execution_count": 143,
   "metadata": {},
   "outputs": [],
   "source": [
    "lm_auto[['action_origin', 'comment']].drop_duplicates().to_csv('remained_auto.csv', index = False)"
   ]
  },
  {
   "cell_type": "code",
   "execution_count": null,
   "metadata": {},
   "outputs": [],
   "source": []
  }
 ],
 "metadata": {
  "kernelspec": {
   "display_name": "python27_smcsandbox",
   "language": "python",
   "name": "python2"
  },
  "language_info": {
   "codemirror_mode": {
    "name": "ipython",
    "version": 2
   },
   "file_extension": ".py",
   "mimetype": "text/x-python",
   "name": "python",
   "nbconvert_exporter": "python",
   "pygments_lexer": "ipython2",
   "version": "2.7.16"
  }
 },
 "nbformat": 4,
 "nbformat_minor": 2
}
