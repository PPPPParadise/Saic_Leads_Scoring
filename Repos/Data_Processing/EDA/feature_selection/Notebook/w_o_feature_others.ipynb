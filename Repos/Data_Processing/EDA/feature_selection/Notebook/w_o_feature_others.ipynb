{
 "cells": [
  {
   "cell_type": "markdown",
   "metadata": {},
   "source": [
    "##### 对于覆盖率小于10%的特征，判断是否为空对成交率的影响"
   ]
  },
  {
   "cell_type": "code",
   "execution_count": 1,
   "metadata": {},
   "outputs": [],
   "source": [
    "import pandas as pd\n",
    "import numpy as np\n",
    "from datetime import datetime"
   ]
  },
  {
   "cell_type": "code",
   "execution_count": 8,
   "metadata": {},
   "outputs": [
    {
     "name": "stderr",
     "output_type": "stream",
     "text": [
      "/app/anaconda3/envs/python27_smcsandbox/lib/python2.7/site-packages/IPython/core/interactiveshell.py:2714: DtypeWarning: Columns (0) have mixed types. Specify dtype option on import or set low_memory=False.\n",
      "  interactivity=interactivity, compiler=compiler, result=result)\n"
     ]
    }
   ],
   "source": [
    "wide_info_others = pd.read_csv('/home/mam_jupyter/jupyter_dir/artefact/leads_scoring_model/wide_info_others.csv', delimiter = ',')\n",
    "cov_rate = pd.read_csv('/home/mam_jupyter/jupyter_dir/artefact/leads_scoring_model/EDA/cov_rate.csv')"
   ]
  },
  {
   "cell_type": "code",
   "execution_count": 41,
   "metadata": {},
   "outputs": [],
   "source": [
    "# select all columns with cov_rate smaller than 10%\n",
    "wide_null_col = wide_info_others[['mobile', 'd_deal_flag'] + list(cov_rate[(cov_rate['cov_rate_others'] <= 10) & \\\n",
    "                                                                           (cov_rate['index'].str.contains('h_') == False)]['index'])]"
   ]
  },
  {
   "cell_type": "code",
   "execution_count": 13,
   "metadata": {},
   "outputs": [
    {
     "data": {
      "text/plain": [
       "Index([u'mobile', u'd_deal_flag', u'd_fir_sec_visit_diff',\n",
       "       u'd_last_reservation_time', u'd_trail_attend_ttl',\n",
       "       u'd_trail_attend_ppt', u'd_dealf_succ_firvisit_diff',\n",
       "       u'd_dealf_succ_lastvisit_diff', u'd_avg_fir_sec_visit_diff',\n",
       "       u'd_avg_firleads_firvisit_diff', u'd_fir_activity_time',\n",
       "       u'd_fir_leads_deal_diff_y', u'd_trail_count_d30', u'd_trail_count_d90',\n",
       "       u'd_visit_count_d15', u'd_activity_count_d15', u'd_activity_count_d30',\n",
       "       u'd_activity_count_d60', u'd_activity_count_d90',\n",
       "       u'd_firfollow_dealf_diff', u'd_lastfollow_dealf_diff',\n",
       "       u'd_firleads_firvisit_diff', u'd_leads_dtbt_ppt',\n",
       "       u'd_fir_dealfail_deal_diff', u'd_last_activity_dealf_diff',\n",
       "       u'd_fir_activity_dealf_diff', u'd_fir_order_leads_diff',\n",
       "       u'd_fir_order_visit_diff', u'd_fir_order_trail_diff',\n",
       "       u'c_last_sis_time', u'c_register_time'],\n",
       "      dtype='object')"
      ]
     },
     "execution_count": 13,
     "metadata": {},
     "output_type": "execute_result"
    }
   ],
   "source": [
    "wide_null_col.columns"
   ]
  },
  {
   "cell_type": "code",
   "execution_count": 60,
   "metadata": {},
   "outputs": [
    {
     "name": "stderr",
     "output_type": "stream",
     "text": [
      "/app/anaconda3/envs/python27_smcsandbox/lib/python2.7/site-packages/pandas/core/frame.py:3391: SettingWithCopyWarning: \n",
      "A value is trying to be set on a copy of a slice from a DataFrame.\n",
      "Try using .loc[row_indexer,col_indexer] = value instead\n",
      "\n",
      "See the caveats in the documentation: http://pandas.pydata.org/pandas-docs/stable/indexing.html#indexing-view-versus-copy\n",
      "  self[k1] = value[k2]\n"
     ]
    }
   ],
   "source": [
    "null_col  = list(cov_rate[(cov_rate['cov_rate_others'] <= 10) & (cov_rate['index'].str.contains('h_') == False)]['index'])\n",
    "\n",
    "# transfer values in a column into binary values given none or not\n",
    "wide_null_col[null_col] = wide_null_col[null_col].where(wide_null_col[null_col].isnull(),1).fillna(0).astype(int)"
   ]
  },
  {
   "cell_type": "code",
   "execution_count": 20,
   "metadata": {},
   "outputs": [],
   "source": [
    "def compute_lift_matrix(df, action_col, conv_col):\n",
    "    '''\n",
    "    Functions that compute a lift matrix given:\n",
    "    df (dataframe): input dataframe\n",
    "    conv_col (string): column name of the dataframe containing the purchase result\n",
    "    action_col (list of string): list of column name of the dataframe containing the actions\n",
    "    '''\n",
    "    list_conversion = [0, 1]\n",
    "    lift_matrix_to_df = [] #list of lists from which we create the lift matrix\n",
    "    action_index = [] #future indexes of the lift matrix  \n",
    "    \n",
    "    def compute_prob_cond(df, conv_col, conversion_item, action, action_instance):\n",
    "        prob_cond = float(df[(df[conv_col] == conversion_item) & (df[action] == action_instance)]\\\n",
    "                          [\"mobile\"].unique().shape[0])/float(df[df[action] == action_instance][\"mobile\"].unique().shape[0])\n",
    "        return prob_cond\n",
    "\n",
    "    def compute_prob_conv(df, conv_col, conversion_item):\n",
    "        prob_conv = float(df[df[conv_col] == conversion_item][\"mobile\"].unique().shape[0])/float(df[\"mobile\"].unique().shape[0])\n",
    "        return prob_conv\n",
    "\n",
    "    def compute_lift(prob_cond, prob_conv):\n",
    "        return prob_cond/prob_conv\n",
    "    \n",
    "    #We iterate over the different action columns we want to see in the lift matrix\n",
    "    for action in action_col:\n",
    "        list_actions = [0,1] #left column in the matrix\n",
    "        action_list_name = [str(action) + \"_\" + str(a) for a in list_actions]\n",
    "        action_index = action_index + action_list_name #names of the actions that will appear on the lift matrix\n",
    "        for action_instance in list_actions:\n",
    "            lift_row = [] #row with lifts, row to be added successively to the matrix \n",
    "            for conversion_item in list_conversion:\n",
    "                try:\n",
    "                    prob_cond = compute_prob_cond(df, conv_col, conversion_item, action, action_instance)\n",
    "                    prob_conv = compute_prob_conv(df, conv_col, conversion_item)\n",
    "                    prob_cond = compute_lift(prob_cond, prob_conv)\n",
    "                except ZeroDivisionError:\n",
    "                    prob_cond = \"NA\"\n",
    "                lift_row.append(prob_cond)\n",
    "            lift_row.append(df[df[action] == action_instance][\"mobile\"].unique().shape[0]) # add total population\n",
    "            lift_matrix_to_df.append(lift_row)\n",
    "    # create the lift matrix\n",
    "    lift_matrix = pd.DataFrame(lift_matrix_to_df, columns = list_conversion + ['Total action population'])\n",
    "    lift_matrix[\"action\"] = action_index\n",
    "    lift_matrix = lift_matrix.set_index(\"action\", drop = True)\n",
    "    \n",
    "    return lift_matrix"
   ]
  },
  {
   "cell_type": "code",
   "execution_count": 62,
   "metadata": {},
   "outputs": [],
   "source": [
    "lift_matrix_if_none = compute_lift_matrix(wide_null_col, null_col , 'd_deal_flag')"
   ]
  },
  {
   "cell_type": "code",
   "execution_count": 64,
   "metadata": {},
   "outputs": [],
   "source": [
    "lift_matrix_if_none.to_csv('lift_matrix_if_none.csv')"
   ]
  }
 ],
 "metadata": {
  "kernelspec": {
   "display_name": "python27_smcsandbox",
   "language": "python",
   "name": "python2"
  },
  "language_info": {
   "codemirror_mode": {
    "name": "ipython",
    "version": 2
   },
   "file_extension": ".py",
   "mimetype": "text/x-python",
   "name": "python",
   "nbconvert_exporter": "python",
   "pygments_lexer": "ipython2",
   "version": "2.7.16"
  }
 },
 "nbformat": 4,
 "nbformat_minor": 2
}
