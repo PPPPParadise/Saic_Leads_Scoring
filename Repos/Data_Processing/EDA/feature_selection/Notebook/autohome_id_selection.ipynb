{
 "cells": [
  {
   "cell_type": "code",
   "execution_count": 2,
   "metadata": {},
   "outputs": [],
   "source": [
    "import findspark\n",
    "findspark.init(\"/opt/cloudera/parcels/CDH-6.3.1-1.cdh6.3.1.p0.1470567/lib/spark\")\n",
    "\n",
    "import os\n",
    "os.environ[\"JAVA_HOME\"] = \"/usr/java/jdk1.8.0_181-cloudera\"\n",
    "\n",
    "from pyspark import SparkContext\n",
    "from pyspark.sql import SparkSession,HiveContext,Window\n",
    "from pyspark.sql import functions as fn\n",
    "from pyspark.sql.types import IntegerType, FloatType, DoubleType, ArrayType, StringType, DecimalType,MapType\n",
    "\n",
    "spark_session = SparkSession.builder.enableHiveSupport().appName(\"test\").config(\"spark.driver.memory\",\"30g\").getOrCreate()\n",
    "hc = HiveContext(spark_session.sparkContext)"
   ]
  },
  {
   "cell_type": "code",
   "execution_count": 2,
   "metadata": {},
   "outputs": [],
   "source": [
    "import pandas as pd\n",
    "import numpy as np\n",
    "import matplotlib.pyplot as plt\n",
    "import seaborn as sns\n",
    "import os\n",
    "import json"
   ]
  },
  {
   "cell_type": "code",
   "execution_count": 4,
   "metadata": {},
   "outputs": [],
   "source": [
    "# load column names and comments\n",
    "wide_info_list = hc.sql('DESCRIBE marketing_modeling.mm_big_wide_info').toPandas()\n",
    "feature_list = hc.sql('DESCRIBE marketing_modeling.wide_info_feature').toPandas()\n",
    "feature_list = feature_list[['col_name']].merge(wide_info_list[['col_name','comment']], how = 'inner', on = 'col_name')"
   ]
  },
  {
   "cell_type": "code",
   "execution_count": 20,
   "metadata": {},
   "outputs": [],
   "source": [
    "#feature_list.to_csv('feature_list.csv',encoding='utf-8')"
   ]
  },
  {
   "cell_type": "markdown",
   "metadata": {},
   "source": [
    "##### Selection of ids with leads sources of autohome"
   ]
  },
  {
   "cell_type": "code",
   "execution_count": 3,
   "metadata": {},
   "outputs": [
    {
     "name": "stderr",
     "output_type": "stream",
     "text": [
      "/app/anaconda3/envs/python27_smcsandbox/lib/python2.7/site-packages/IPython/core/interactiveshell.py:2714: DtypeWarning: Columns (1) have mixed types. Specify dtype option on import or set low_memory=False.\n",
      "  interactivity=interactivity, compiler=compiler, result=result)\n",
      "/app/anaconda3/envs/python27_smcsandbox/lib/python2.7/site-packages/numpy/lib/arraysetops.py:569: FutureWarning: elementwise comparison failed; returning scalar instead, but in the future will perform elementwise comparison\n",
      "  mask |= (ar1 == a)\n"
     ]
    }
   ],
   "source": [
    "wide_info_all = pd.read_csv('/home/mam_jupyter/jupyter_dir/artefact/leads_scoring_model/wide_info_all.csv', delimiter = ',', index_col = 0)"
   ]
  },
  {
   "cell_type": "code",
   "execution_count": 4,
   "metadata": {},
   "outputs": [
    {
     "data": {
      "text/plain": [
       "1991510"
      ]
     },
     "execution_count": 4,
     "metadata": {},
     "output_type": "execute_result"
    }
   ],
   "source": [
    "len(wide_info_all)"
   ]
  },
  {
   "cell_type": "code",
   "execution_count": 6,
   "metadata": {},
   "outputs": [],
   "source": [
    "wide_info_all['mobile'] = wide_info_all['mobile'].apply(lambda x: str(x))"
   ]
  },
  {
   "cell_type": "code",
   "execution_count": 7,
   "metadata": {},
   "outputs": [
    {
     "data": {
      "text/plain": [
       "1991510"
      ]
     },
     "execution_count": 7,
     "metadata": {},
     "output_type": "execute_result"
    }
   ],
   "source": [
    "len(wide_info_all)"
   ]
  },
  {
   "cell_type": "code",
   "execution_count": 8,
   "metadata": {},
   "outputs": [],
   "source": [
    "auto_info_all = wide_info_all[wide_info_all['c_lead_sources_汽车之家']==1]"
   ]
  },
  {
   "cell_type": "code",
   "execution_count": 9,
   "metadata": {},
   "outputs": [
    {
     "data": {
      "text/plain": [
       "644936"
      ]
     },
     "execution_count": 9,
     "metadata": {},
     "output_type": "execute_result"
    }
   ],
   "source": [
    "len(auto_info_all)"
   ]
  },
  {
   "cell_type": "markdown",
   "metadata": {},
   "source": [
    "##### Selection of  ids in autohome feature table"
   ]
  },
  {
   "cell_type": "code",
   "execution_count": 10,
   "metadata": {},
   "outputs": [],
   "source": [
    "cdp_feature_list_ad = [\"c_city\",\"c_province\",\"c_city_level\",\"c_MG350（海外销售）\",\"c_MGeHS\",\"c_MGGT\",\"c_MG锐腾\",\"c_MG550（海外销售）\",\"c_MGeMGHS\",\n",
    "\"c_MGHS\",\"c_MG360（海外销售）\",\"c_MGRX5（海外销售）\",\"c_MGeMG6\",\"c_MG7\",\"c_MG750（海外销售）\",\"c_MG5\",\"c_MGZS纯电动\",\"c_MGZS\",\"c_MG3\",\n",
    "\"c_MG新MG5（海外销售）\",\"c_MGTF\",\"c_MG6\",\n",
    "\"c_last_reach_platform_MG服务号\",\"c_last_reach_platform_MGAPP\",\"c_last_reach_platform_MG官网\",\"c_lead_sources_汽车之家\",\n",
    "\"c_vertical_media\",\"c_offcial_online\",\n",
    "\"c_leads_source_nums\"]\n",
    "\n",
    "autohome_feature_list_ad = ['h_func_prefer1', 'h_func_prefer2', 'h_func_prefer3','h_func_prefer4', 'h_func_prefer5', 'h_func_prefer6',\n",
    "                            'h_func_prefer7', 'h_func_prefer8', 'h_func_prefer9','h_car_type_prefer1', 'h_car_type_prefer2', \n",
    "                            'h_car_type_prefer3','h_car_type_prefer4', 'h_car_type_prefer5', 'h_car_type_prefer6','h_car_type_prefer7', \n",
    "                            'h_car_type_prefer8', 'h_car_type_prefer9','h_car_type_prefer10', 'h_car_type_prefer11', 'h_car_type_prefer12',\n",
    "                            'h_car_type_prefer13', 'h_car_type_prefer14', 'h_car_type_prefer15','h_car_type_prefer16', 'h_config_prefer1', \n",
    "                            'h_config_prefer2', 'h_config_prefer3', 'h_config_prefer4', 'h_config_prefer5', 'h_config_prefer6', \n",
    "                            'h_config_prefer7', 'h_config_prefer8', 'h_config_prefer9', 'h_config_prefer10', 'h_config_prefer11',\n",
    "                            'h_config_prefer12', 'h_config_prefer13', 'h_config_prefer14','h_config_prefer15', 'h_config_prefer16', \n",
    "                            'h_config_prefer17', 'h_config_prefer18', 'h_budget_min', 'h_budget_min_cat', 'h_budget_max', 'h_budget_max_cat', \n",
    "                            'h_level_cat']\n",
    "\n",
    "# DLM小宽表\n",
    "wide_info_dlm = wide_info_all[[i.encode('utf-8') for i in list(feature_list[feature_list['col_name'].str.contains('d_')]['col_name'])]]\n",
    "#wide_info_dlm['feature_vol_dlm'] = wide_info_dlm.shape[1] - wide_info_dlm.isnull().sum(axis=1) - 2\n",
    "\n",
    "# autohome小宽表\n",
    "wide_info_autohome = wide_info_all[autohome_feature_list_ad + \\\n",
    "                                   [i.encode('utf-8') for i in list(feature_list[feature_list['col_name'].str.contains('h_')]['col_name'])]]\n",
    "#wide_info_autohome['feature_vol_autohome'] = wide_info_autohome.shape[1] - wide_info_autohome.isnull().sum(axis=1) - 2\n",
    "\n",
    "# CDP小宽表 \n",
    "wide_info_cdp = wide_info_all[cdp_feature_list_ad + \\\n",
    "                              [i.encode('utf-8') for i in list(feature_list[(feature_list['col_name'].str.contains('c_') == True) & \\\n",
    "                                                                        (feature_list['col_name'].str.contains('d_') == False)]['col_name'])]]\n",
    "#wide_info_cdp['feature_vol_cdp'] = wide_info_cdp.shape[1] - wide_info_cdp.isnull().sum(axis=1) - 2"
   ]
  },
  {
   "cell_type": "code",
   "execution_count": 15,
   "metadata": {},
   "outputs": [],
   "source": [
    "auto_miss = auto_info_all[auto_info_all[wide_info_autohome.columns.to_list()].isnull().T.all()==True]"
   ]
  },
  {
   "cell_type": "code",
   "execution_count": 16,
   "metadata": {},
   "outputs": [],
   "source": [
    "auto_selection = auto_info_all[auto_info_all['mobile'].isin(auto_miss['mobile'].to_list())==False]"
   ]
  },
  {
   "cell_type": "code",
   "execution_count": 17,
   "metadata": {},
   "outputs": [
    {
     "data": {
      "text/plain": [
       "162254"
      ]
     },
     "execution_count": 17,
     "metadata": {},
     "output_type": "execute_result"
    }
   ],
   "source": [
    "len(auto_selection)"
   ]
  },
  {
   "cell_type": "code",
   "execution_count": 21,
   "metadata": {},
   "outputs": [
    {
     "data": {
      "text/plain": [
       "482682"
      ]
     },
     "execution_count": 21,
     "metadata": {},
     "output_type": "execute_result"
    }
   ],
   "source": [
    "len(auto_miss)"
   ]
  },
  {
   "cell_type": "code",
   "execution_count": 22,
   "metadata": {},
   "outputs": [],
   "source": [
    "auto_selection.to_csv('/home/mam_jupyter/jupyter_dir/artefact/leads_scoring_model/wide_info_auto.csv')"
   ]
  },
  {
   "cell_type": "markdown",
   "metadata": {},
   "source": [
    "##### get the d_last_leads_time"
   ]
  },
  {
   "cell_type": "code",
   "execution_count": 26,
   "metadata": {},
   "outputs": [],
   "source": [
    "llt = hc.sql('''\n",
    "SELECT \n",
    "    mobile,\n",
    "    d_last_leads_time\n",
    "FROM marketing_modeling.mm_big_wide_info\n",
    "WHERE \n",
    "    SUBSTR(mobile, 0, 1) = 1\n",
    "    AND LENGTH(mobile) = 11\n",
    "    AND d_deal_flag is not null\n",
    "''').toPandas()"
   ]
  },
  {
   "cell_type": "code",
   "execution_count": 27,
   "metadata": {},
   "outputs": [
    {
     "data": {
      "text/plain": [
       "1991510"
      ]
     },
     "execution_count": 27,
     "metadata": {},
     "output_type": "execute_result"
    }
   ],
   "source": [
    "len(llt)"
   ]
  },
  {
   "cell_type": "code",
   "execution_count": 28,
   "metadata": {},
   "outputs": [],
   "source": [
    "llt['mobile']=llt['mobile'].apply(lambda x:str(x))"
   ]
  },
  {
   "cell_type": "code",
   "execution_count": 44,
   "metadata": {},
   "outputs": [],
   "source": [
    "auto_miss = auto_miss.merge(llt,left_on = 'mobile',right_on = 'mobile')"
   ]
  },
  {
   "cell_type": "code",
   "execution_count": 46,
   "metadata": {},
   "outputs": [
    {
     "data": {
      "text/plain": [
       "48201"
      ]
     },
     "execution_count": 46,
     "metadata": {},
     "output_type": "execute_result"
    }
   ],
   "source": [
    "len(auto_miss[auto_miss['d_last_leads_time'].isnull()==True])"
   ]
  },
  {
   "cell_type": "code",
   "execution_count": 59,
   "metadata": {},
   "outputs": [],
   "source": [
    "auto_miss_notnull = auto_miss[auto_miss['d_last_leads_time'].isnull()==False]"
   ]
  },
  {
   "cell_type": "code",
   "execution_count": 47,
   "metadata": {},
   "outputs": [
    {
     "data": {
      "text/plain": [
       "Timestamp('2020-05-31 22:56:19')"
      ]
     },
     "execution_count": 47,
     "metadata": {},
     "output_type": "execute_result"
    }
   ],
   "source": [
    "auto_miss['d_last_leads_time'].max()"
   ]
  },
  {
   "cell_type": "code",
   "execution_count": 60,
   "metadata": {},
   "outputs": [
    {
     "name": "stderr",
     "output_type": "stream",
     "text": [
      "ERROR:root:Exception while sending command.\n",
      "Traceback (most recent call last):\n",
      "  File \"/opt/cloudera/parcels/CDH-6.3.1-1.cdh6.3.1.p0.1470567/lib/spark/python/lib/py4j-0.10.7-src.zip/py4j/java_gateway.py\", line 985, in send_command\n",
      "    response = connection.send_command(command)\n",
      "  File \"/opt/cloudera/parcels/CDH-6.3.1-1.cdh6.3.1.p0.1470567/lib/spark/python/lib/py4j-0.10.7-src.zip/py4j/java_gateway.py\", line 1164, in send_command\n",
      "    \"Error while receiving\", e, proto.ERROR_ON_RECEIVE)\n",
      "Py4JNetworkError: Error while receiving\n",
      "/app/anaconda3/envs/python27_smcsandbox/lib/python2.7/site-packages/ipykernel_launcher.py:1: SettingWithCopyWarning: \n",
      "A value is trying to be set on a copy of a slice from a DataFrame.\n",
      "Try using .loc[row_indexer,col_indexer] = value instead\n",
      "\n",
      "See the caveats in the documentation: http://pandas.pydata.org/pandas-docs/stable/indexing.html#indexing-view-versus-copy\n",
      "  \"\"\"Entry point for launching an IPython kernel.\n"
     ]
    }
   ],
   "source": [
    "auto_miss_notnull['d_last_leads_month']=auto_miss_notnull['d_last_leads_time'].apply(lambda x: x.strftime('%Y-%m'))"
   ]
  },
  {
   "cell_type": "code",
   "execution_count": 61,
   "metadata": {},
   "outputs": [
    {
     "data": {
      "text/plain": [
       "2018-04    31119\n",
       "2018-01    29121\n",
       "2018-03    28999\n",
       "2018-05    26126\n",
       "2018-09    25706\n",
       "2018-06    24320\n",
       "2018-10    23596\n",
       "2018-12    23357\n",
       "2018-08    22772\n",
       "2018-02    22338\n",
       "2018-11    22101\n",
       "2018-07    21805\n",
       "2019-01    20904\n",
       "2019-04    18223\n",
       "2019-03    17615\n",
       "2019-02    17015\n",
       "2019-06     8631\n",
       "2019-05     7765\n",
       "2019-07     6753\n",
       "2019-10     6024\n",
       "2019-08     5896\n",
       "2019-09     5201\n",
       "2019-11     4328\n",
       "2019-12     4077\n",
       "2020-03     2719\n",
       "2020-01     2691\n",
       "2020-02     2353\n",
       "2020-04     1878\n",
       "2020-05     1048\n",
       "Name: d_last_leads_month, dtype: int64"
      ]
     },
     "execution_count": 61,
     "metadata": {},
     "output_type": "execute_result"
    }
   ],
   "source": [
    "auto_miss_notnull['d_last_leads_month'].value_counts()"
   ]
  },
  {
   "cell_type": "code",
   "execution_count": null,
   "metadata": {},
   "outputs": [],
   "source": []
  }
 ],
 "metadata": {
  "kernelspec": {
   "display_name": "python27_smcsandbox",
   "language": "python",
   "name": "python2"
  },
  "language_info": {
   "codemirror_mode": {
    "name": "ipython",
    "version": 2
   },
   "file_extension": ".py",
   "mimetype": "text/x-python",
   "name": "python",
   "nbconvert_exporter": "python",
   "pygments_lexer": "ipython2",
   "version": "2.7.16"
  }
 },
 "nbformat": 4,
 "nbformat_minor": 2
}
